{
  "nbformat": 4,
  "nbformat_minor": 0,
  "metadata": {
    "colab": {
      "name": "Funny_ChatBot.ipynb",
      "version": "0.3.2",
      "provenance": [],
      "collapsed_sections": []
    },
    "kernelspec": {
      "name": "python3",
      "display_name": "Python 3"
    },
    "accelerator": "GPU"
  },
  "cells": [
    {
      "metadata": {
        "id": "m27B2R-2R-Nw",
        "colab_type": "text"
      },
      "cell_type": "markdown",
      "source": [
        "### **Conversational CHATBOT to refresh your mind**:"
      ]
    },
    {
      "metadata": {
        "id": "q-JVZP5YTHFg",
        "colab_type": "text"
      },
      "cell_type": "markdown",
      "source": [
        "**Necessary Installations:**"
      ]
    },
    {
      "metadata": {
        "id": "MMO4rTkurHfV",
        "colab_type": "code",
        "outputId": "792b249e-28ac-49b3-dbe8-433dd2013de2",
        "colab": {
          "base_uri": "https://localhost:8080/",
          "height": 1822
        }
      },
      "cell_type": "code",
      "source": [
        "import sys\n",
        "python = sys.executable\n",
        "\n",
        "# In your environment run:\n",
        "!{python} -m pip install -U rasa_core==0.9.6 rasa_nlu[spacy];"
      ],
      "execution_count": 0,
      "outputs": [
        {
          "output_type": "stream",
          "text": [
            "Requirement already up-to-date: rasa_core==0.9.6 in /usr/local/lib/python3.6/dist-packages (0.9.6)\n",
            "Requirement already up-to-date: rasa_nlu[spacy] in /usr/local/lib/python3.6/dist-packages (0.14.4)\n",
            "Requirement already satisfied, skipping upgrade: fakeredis~=0.10.0 in /usr/local/lib/python3.6/dist-packages (from rasa_core==0.9.6) (0.10.3)\n",
            "Requirement already satisfied, skipping upgrade: pykwalify<=1.6.0 in /usr/local/lib/python3.6/dist-packages (from rasa_core==0.9.6) (1.6.0)\n",
            "Requirement already satisfied, skipping upgrade: slackclient~=1.0 in /usr/local/lib/python3.6/dist-packages (from rasa_core==0.9.6) (1.3.1)\n",
            "Requirement already satisfied, skipping upgrade: networkx~=2.0 in /usr/local/lib/python3.6/dist-packages (from rasa_core==0.9.6) (2.2)\n",
            "Requirement already satisfied, skipping upgrade: redis~=2.0 in /usr/local/lib/python3.6/dist-packages (from rasa_core==0.9.6) (2.10.6)\n",
            "Requirement already satisfied, skipping upgrade: mattermostwrapper~=2.0 in /usr/local/lib/python3.6/dist-packages (from rasa_core==0.9.6) (2.1)\n",
            "Requirement already satisfied, skipping upgrade: keras~=2.0 in /usr/local/lib/python3.6/dist-packages (from rasa_core==0.9.6) (2.2.4)\n",
            "Requirement already satisfied, skipping upgrade: ConfigArgParse~=0.13.0 in /usr/local/lib/python3.6/dist-packages (from rasa_core==0.9.6) (0.13.0)\n",
            "Requirement already satisfied, skipping upgrade: tqdm~=4.0 in /usr/local/lib/python3.6/dist-packages (from rasa_core==0.9.6) (4.28.1)\n",
            "Requirement already satisfied, skipping upgrade: future~=0.16 in /usr/local/lib/python3.6/dist-packages (from rasa_core==0.9.6) (0.16.0)\n",
            "Requirement already satisfied, skipping upgrade: h5py~=2.0 in /usr/local/lib/python3.6/dist-packages (from rasa_core==0.9.6) (2.8.0)\n",
            "Requirement already satisfied, skipping upgrade: ruamel.yaml~=0.15.0 in /usr/local/lib/python3.6/dist-packages (from rasa_core==0.9.6) (0.15.89)\n",
            "Requirement already satisfied, skipping upgrade: python-telegram-bot~=10.0 in /usr/local/lib/python3.6/dist-packages (from rasa_core==0.9.6) (10.1.0)\n",
            "Requirement already satisfied, skipping upgrade: requests~=2.15 in /usr/local/lib/python3.6/dist-packages (from rasa_core==0.9.6) (2.21.0)\n",
            "Requirement already satisfied, skipping upgrade: twilio~=6.0 in /usr/local/lib/python3.6/dist-packages (from rasa_core==0.9.6) (6.25.1)\n",
            "Requirement already satisfied, skipping upgrade: colorhash~=1.0 in /usr/local/lib/python3.6/dist-packages (from rasa_core==0.9.6) (1.0.2)\n",
            "Requirement already satisfied, skipping upgrade: tensorflow<1.9,>=1.7 in /usr/local/lib/python3.6/dist-packages (from rasa_core==0.9.6) (1.8.0)\n",
            "Requirement already satisfied, skipping upgrade: fbmessenger~=5.0 in /usr/local/lib/python3.6/dist-packages (from rasa_core==0.9.6) (5.4.0)\n",
            "Requirement already satisfied, skipping upgrade: apscheduler~=3.0 in /usr/local/lib/python3.6/dist-packages (from rasa_core==0.9.6) (3.5.3)\n",
            "Requirement already satisfied, skipping upgrade: flask-cors~=3.0 in /usr/local/lib/python3.6/dist-packages (from rasa_core==0.9.6) (3.0.7)\n",
            "Requirement already satisfied, skipping upgrade: numpy~=1.13 in /usr/local/lib/python3.6/dist-packages (from rasa_core==0.9.6) (1.14.6)\n",
            "Requirement already satisfied, skipping upgrade: scikit-learn~=0.19.0 in /usr/local/lib/python3.6/dist-packages (from rasa_core==0.9.6) (0.19.2)\n",
            "Requirement already satisfied, skipping upgrade: flask~=1.0 in /usr/local/lib/python3.6/dist-packages (from rasa_core==0.9.6) (1.0.2)\n",
            "Requirement already satisfied, skipping upgrade: six~=1.0 in /usr/local/lib/python3.6/dist-packages (from rasa_core==0.9.6) (1.11.0)\n",
            "Requirement already satisfied, skipping upgrade: coloredlogs~=10.0 in /usr/local/lib/python3.6/dist-packages (from rasa_core==0.9.6) (10.0)\n",
            "Requirement already satisfied, skipping upgrade: jsonpickle~=0.9.0 in /usr/local/lib/python3.6/dist-packages (from rasa_core==0.9.6) (0.9.6)\n",
            "Requirement already satisfied, skipping upgrade: typing~=3.0 in /usr/local/lib/python3.6/dist-packages (from rasa_core==0.9.6) (3.6.6)\n",
            "Requirement already satisfied, skipping upgrade: graphviz~=0.8.0 in /usr/local/lib/python3.6/dist-packages (from rasa_core==0.9.6) (0.8.4)\n",
            "Requirement already satisfied, skipping upgrade: boto3~=1.5 in /usr/local/lib/python3.6/dist-packages (from rasa_nlu[spacy]) (1.9.106)\n",
            "Requirement already satisfied, skipping upgrade: klein~=17.10 in /usr/local/lib/python3.6/dist-packages (from rasa_nlu[spacy]) (17.10.0)\n",
            "Requirement already satisfied, skipping upgrade: gevent~=1.2 in /usr/local/lib/python3.6/dist-packages (from rasa_nlu[spacy]) (1.4.0)\n",
            "Requirement already satisfied, skipping upgrade: packaging~=18.0 in /usr/local/lib/python3.6/dist-packages (from rasa_nlu[spacy]) (18.0)\n",
            "Requirement already satisfied, skipping upgrade: simplejson~=3.13 in /usr/local/lib/python3.6/dist-packages (from rasa_nlu[spacy]) (3.16.0)\n",
            "Requirement already satisfied, skipping upgrade: cloudpickle~=0.6.1 in /usr/local/lib/python3.6/dist-packages (from rasa_nlu[spacy]) (0.6.1)\n",
            "Requirement already satisfied, skipping upgrade: jsonschema~=2.6 in /usr/local/lib/python3.6/dist-packages (from rasa_nlu[spacy]) (2.6.0)\n",
            "Requirement already satisfied, skipping upgrade: matplotlib~=2.0 in /usr/local/lib/python3.6/dist-packages (from rasa_nlu[spacy]) (2.2.4)\n",
            "Requirement already satisfied, skipping upgrade: sklearn-crfsuite~=0.3.6; extra == \"spacy\" in /usr/local/lib/python3.6/dist-packages (from rasa_nlu[spacy]) (0.3.6)\n",
            "Requirement already satisfied, skipping upgrade: spacy<=2.0.18,>2.0; extra == \"spacy\" in /usr/local/lib/python3.6/dist-packages (from rasa_nlu[spacy]) (2.0.18)\n",
            "Requirement already satisfied, skipping upgrade: scipy~=1.1; extra == \"spacy\" in /usr/local/lib/python3.6/dist-packages (from rasa_nlu[spacy]) (1.1.0)\n",
            "Requirement already satisfied, skipping upgrade: PyYAML>=3.11 in /usr/local/lib/python3.6/dist-packages (from pykwalify<=1.6.0->rasa_core==0.9.6) (3.13)\n",
            "Requirement already satisfied, skipping upgrade: docopt>=0.6.2 in /usr/local/lib/python3.6/dist-packages (from pykwalify<=1.6.0->rasa_core==0.9.6) (0.6.2)\n",
            "Requirement already satisfied, skipping upgrade: python-dateutil>=2.4.2 in /usr/local/lib/python3.6/dist-packages (from pykwalify<=1.6.0->rasa_core==0.9.6) (2.5.3)\n",
            "Requirement already satisfied, skipping upgrade: websocket-client<0.55.0,>=0.35 in /usr/local/lib/python3.6/dist-packages (from slackclient~=1.0->rasa_core==0.9.6) (0.54.0)\n",
            "Requirement already satisfied, skipping upgrade: decorator>=4.3.0 in /usr/local/lib/python3.6/dist-packages (from networkx~=2.0->rasa_core==0.9.6) (4.3.2)\n",
            "Requirement already satisfied, skipping upgrade: keras-applications>=1.0.6 in /usr/local/lib/python3.6/dist-packages (from keras~=2.0->rasa_core==0.9.6) (1.0.7)\n",
            "Requirement already satisfied, skipping upgrade: keras-preprocessing>=1.0.5 in /usr/local/lib/python3.6/dist-packages (from keras~=2.0->rasa_core==0.9.6) (1.0.9)\n",
            "Requirement already satisfied, skipping upgrade: certifi in /usr/local/lib/python3.6/dist-packages (from python-telegram-bot~=10.0->rasa_core==0.9.6) (2018.11.29)\n",
            "Requirement already satisfied, skipping upgrade: chardet<3.1.0,>=3.0.2 in /usr/local/lib/python3.6/dist-packages (from requests~=2.15->rasa_core==0.9.6) (3.0.4)\n",
            "Requirement already satisfied, skipping upgrade: idna<2.9,>=2.5 in /usr/local/lib/python3.6/dist-packages (from requests~=2.15->rasa_core==0.9.6) (2.6)\n",
            "Requirement already satisfied, skipping upgrade: urllib3<1.25,>=1.21.1 in /usr/local/lib/python3.6/dist-packages (from requests~=2.15->rasa_core==0.9.6) (1.22)\n",
            "Requirement already satisfied, skipping upgrade: pysocks; python_version >= \"3.0\" in /usr/local/lib/python3.6/dist-packages (from twilio~=6.0->rasa_core==0.9.6) (1.6.8)\n",
            "Requirement already satisfied, skipping upgrade: PyJWT>=1.4.2 in /usr/local/lib/python3.6/dist-packages (from twilio~=6.0->rasa_core==0.9.6) (1.7.1)\n",
            "Requirement already satisfied, skipping upgrade: pytz in /usr/local/lib/python3.6/dist-packages (from twilio~=6.0->rasa_core==0.9.6) (2018.9)\n",
            "Requirement already satisfied, skipping upgrade: absl-py>=0.1.6 in /usr/local/lib/python3.6/dist-packages (from tensorflow<1.9,>=1.7->rasa_core==0.9.6) (0.7.0)\n",
            "Requirement already satisfied, skipping upgrade: astor>=0.6.0 in /usr/local/lib/python3.6/dist-packages (from tensorflow<1.9,>=1.7->rasa_core==0.9.6) (0.7.1)\n",
            "Requirement already satisfied, skipping upgrade: gast>=0.2.0 in /usr/local/lib/python3.6/dist-packages (from tensorflow<1.9,>=1.7->rasa_core==0.9.6) (0.2.2)\n",
            "Requirement already satisfied, skipping upgrade: tensorboard<1.9.0,>=1.8.0 in /usr/local/lib/python3.6/dist-packages (from tensorflow<1.9,>=1.7->rasa_core==0.9.6) (1.8.0)\n",
            "Requirement already satisfied, skipping upgrade: wheel>=0.26 in /usr/local/lib/python3.6/dist-packages (from tensorflow<1.9,>=1.7->rasa_core==0.9.6) (0.33.1)\n",
            "Requirement already satisfied, skipping upgrade: protobuf>=3.4.0 in /usr/local/lib/python3.6/dist-packages (from tensorflow<1.9,>=1.7->rasa_core==0.9.6) (3.6.1)\n",
            "Requirement already satisfied, skipping upgrade: termcolor>=1.1.0 in /usr/local/lib/python3.6/dist-packages (from tensorflow<1.9,>=1.7->rasa_core==0.9.6) (1.1.0)\n",
            "Requirement already satisfied, skipping upgrade: grpcio>=1.8.6 in /usr/local/lib/python3.6/dist-packages (from tensorflow<1.9,>=1.7->rasa_core==0.9.6) (1.15.0)\n",
            "Requirement already satisfied, skipping upgrade: tzlocal>=1.2 in /usr/local/lib/python3.6/dist-packages (from apscheduler~=3.0->rasa_core==0.9.6) (1.5.1)\n",
            "Requirement already satisfied, skipping upgrade: setuptools>=0.7 in /usr/local/lib/python3.6/dist-packages (from apscheduler~=3.0->rasa_core==0.9.6) (40.8.0)\n",
            "Requirement already satisfied, skipping upgrade: Werkzeug>=0.14 in /usr/local/lib/python3.6/dist-packages (from flask~=1.0->rasa_core==0.9.6) (0.14.1)\n",
            "Requirement already satisfied, skipping upgrade: Jinja2>=2.10 in /usr/local/lib/python3.6/dist-packages (from flask~=1.0->rasa_core==0.9.6) (2.10)\n",
            "Requirement already satisfied, skipping upgrade: itsdangerous>=0.24 in /usr/local/lib/python3.6/dist-packages (from flask~=1.0->rasa_core==0.9.6) (1.1.0)\n",
            "Requirement already satisfied, skipping upgrade: click>=5.1 in /usr/local/lib/python3.6/dist-packages (from flask~=1.0->rasa_core==0.9.6) (7.0)\n",
            "Requirement already satisfied, skipping upgrade: humanfriendly>=4.7 in /usr/local/lib/python3.6/dist-packages (from coloredlogs~=10.0->rasa_core==0.9.6) (4.18)\n",
            "Requirement already satisfied, skipping upgrade: botocore<1.13.0,>=1.12.106 in /usr/local/lib/python3.6/dist-packages (from boto3~=1.5->rasa_nlu[spacy]) (1.12.106)\n",
            "Requirement already satisfied, skipping upgrade: jmespath<1.0.0,>=0.7.1 in /usr/local/lib/python3.6/dist-packages (from boto3~=1.5->rasa_nlu[spacy]) (0.9.4)\n",
            "Requirement already satisfied, skipping upgrade: s3transfer<0.3.0,>=0.2.0 in /usr/local/lib/python3.6/dist-packages (from boto3~=1.5->rasa_nlu[spacy]) (0.2.0)\n",
            "Requirement already satisfied, skipping upgrade: incremental in /usr/local/lib/python3.6/dist-packages (from klein~=17.10->rasa_nlu[spacy]) (17.5.0)\n",
            "Requirement already satisfied, skipping upgrade: Twisted>=15.5 in /usr/local/lib/python3.6/dist-packages (from klein~=17.10->rasa_nlu[spacy]) (18.9.0)\n",
            "Requirement already satisfied, skipping upgrade: greenlet>=0.4.14; platform_python_implementation == \"CPython\" in /usr/local/lib/python3.6/dist-packages (from gevent~=1.2->rasa_nlu[spacy]) (0.4.15)\n",
            "Requirement already satisfied, skipping upgrade: pyparsing>=2.0.2 in /usr/local/lib/python3.6/dist-packages (from packaging~=18.0->rasa_nlu[spacy]) (2.3.1)\n",
            "Requirement already satisfied, skipping upgrade: cycler>=0.10 in /usr/local/lib/python3.6/dist-packages (from matplotlib~=2.0->rasa_nlu[spacy]) (0.10.0)\n",
            "Requirement already satisfied, skipping upgrade: kiwisolver>=1.0.1 in /usr/local/lib/python3.6/dist-packages (from matplotlib~=2.0->rasa_nlu[spacy]) (1.0.1)\n",
            "Requirement already satisfied, skipping upgrade: python-crfsuite>=0.8.3 in /usr/local/lib/python3.6/dist-packages (from sklearn-crfsuite~=0.3.6; extra == \"spacy\"->rasa_nlu[spacy]) (0.9.6)\n",
            "Requirement already satisfied, skipping upgrade: tabulate in /usr/local/lib/python3.6/dist-packages (from sklearn-crfsuite~=0.3.6; extra == \"spacy\"->rasa_nlu[spacy]) (0.8.3)\n",
            "Requirement already satisfied, skipping upgrade: plac<1.0.0,>=0.9.6 in /usr/local/lib/python3.6/dist-packages (from spacy<=2.0.18,>2.0; extra == \"spacy\"->rasa_nlu[spacy]) (0.9.6)\n",
            "Requirement already satisfied, skipping upgrade: murmurhash<1.1.0,>=0.28.0 in /usr/local/lib/python3.6/dist-packages (from spacy<=2.0.18,>2.0; extra == \"spacy\"->rasa_nlu[spacy]) (1.0.2)\n",
            "Requirement already satisfied, skipping upgrade: thinc<6.13.0,>=6.12.1 in /usr/local/lib/python3.6/dist-packages (from spacy<=2.0.18,>2.0; extra == \"spacy\"->rasa_nlu[spacy]) (6.12.1)\n",
            "Requirement already satisfied, skipping upgrade: dill<0.3,>=0.2 in /usr/local/lib/python3.6/dist-packages (from spacy<=2.0.18,>2.0; extra == \"spacy\"->rasa_nlu[spacy]) (0.2.9)\n",
            "Requirement already satisfied, skipping upgrade: preshed<2.1.0,>=2.0.1 in /usr/local/lib/python3.6/dist-packages (from spacy<=2.0.18,>2.0; extra == \"spacy\"->rasa_nlu[spacy]) (2.0.1)\n",
            "Requirement already satisfied, skipping upgrade: ujson>=1.35 in /usr/local/lib/python3.6/dist-packages (from spacy<=2.0.18,>2.0; extra == \"spacy\"->rasa_nlu[spacy]) (1.35)\n",
            "Requirement already satisfied, skipping upgrade: regex==2018.01.10 in /usr/local/lib/python3.6/dist-packages (from spacy<=2.0.18,>2.0; extra == \"spacy\"->rasa_nlu[spacy]) (2018.1.10)\n",
            "Requirement already satisfied, skipping upgrade: cymem<2.1.0,>=2.0.2 in /usr/local/lib/python3.6/dist-packages (from spacy<=2.0.18,>2.0; extra == \"spacy\"->rasa_nlu[spacy]) (2.0.2)\n",
            "Requirement already satisfied, skipping upgrade: markdown>=2.6.8 in /usr/local/lib/python3.6/dist-packages (from tensorboard<1.9.0,>=1.8.0->tensorflow<1.9,>=1.7->rasa_core==0.9.6) (3.0.1)\n",
            "Requirement already satisfied, skipping upgrade: bleach==1.5.0 in /usr/local/lib/python3.6/dist-packages (from tensorboard<1.9.0,>=1.8.0->tensorflow<1.9,>=1.7->rasa_core==0.9.6) (1.5.0)\n",
            "Requirement already satisfied, skipping upgrade: html5lib==0.9999999 in /usr/local/lib/python3.6/dist-packages (from tensorboard<1.9.0,>=1.8.0->tensorflow<1.9,>=1.7->rasa_core==0.9.6) (0.9999999)\n",
            "Requirement already satisfied, skipping upgrade: MarkupSafe>=0.23 in /usr/local/lib/python3.6/dist-packages (from Jinja2>=2.10->flask~=1.0->rasa_core==0.9.6) (1.1.1)\n",
            "Requirement already satisfied, skipping upgrade: docutils>=0.10 in /usr/local/lib/python3.6/dist-packages (from botocore<1.13.0,>=1.12.106->boto3~=1.5->rasa_nlu[spacy]) (0.14)\n",
            "Requirement already satisfied, skipping upgrade: PyHamcrest>=1.9.0 in /usr/local/lib/python3.6/dist-packages (from Twisted>=15.5->klein~=17.10->rasa_nlu[spacy]) (1.9.0)\n",
            "Requirement already satisfied, skipping upgrade: hyperlink>=17.1.1 in /usr/local/lib/python3.6/dist-packages (from Twisted>=15.5->klein~=17.10->rasa_nlu[spacy]) (18.0.0)\n",
            "Requirement already satisfied, skipping upgrade: Automat>=0.3.0 in /usr/local/lib/python3.6/dist-packages (from Twisted>=15.5->klein~=17.10->rasa_nlu[spacy]) (0.7.0)\n",
            "Requirement already satisfied, skipping upgrade: attrs>=17.4.0 in /usr/local/lib/python3.6/dist-packages (from Twisted>=15.5->klein~=17.10->rasa_nlu[spacy]) (19.1.0)\n",
            "Requirement already satisfied, skipping upgrade: zope.interface>=4.4.2 in /usr/local/lib/python3.6/dist-packages (from Twisted>=15.5->klein~=17.10->rasa_nlu[spacy]) (4.6.0)\n",
            "Requirement already satisfied, skipping upgrade: constantly>=15.1 in /usr/local/lib/python3.6/dist-packages (from Twisted>=15.5->klein~=17.10->rasa_nlu[spacy]) (15.1.0)\n",
            "Requirement already satisfied, skipping upgrade: msgpack<0.6.0,>=0.5.6 in /usr/local/lib/python3.6/dist-packages (from thinc<6.13.0,>=6.12.1->spacy<=2.0.18,>2.0; extra == \"spacy\"->rasa_nlu[spacy]) (0.5.6)\n",
            "Requirement already satisfied, skipping upgrade: msgpack-numpy<0.4.4 in /usr/local/lib/python3.6/dist-packages (from thinc<6.13.0,>=6.12.1->spacy<=2.0.18,>2.0; extra == \"spacy\"->rasa_nlu[spacy]) (0.4.3.2)\n",
            "Requirement already satisfied, skipping upgrade: wrapt<1.11.0,>=1.10.0 in /usr/local/lib/python3.6/dist-packages (from thinc<6.13.0,>=6.12.1->spacy<=2.0.18,>2.0; extra == \"spacy\"->rasa_nlu[spacy]) (1.10.11)\n",
            "Requirement already satisfied, skipping upgrade: cytoolz<0.10,>=0.9.0 in /usr/local/lib/python3.6/dist-packages (from thinc<6.13.0,>=6.12.1->spacy<=2.0.18,>2.0; extra == \"spacy\"->rasa_nlu[spacy]) (0.9.0.1)\n",
            "Requirement already satisfied, skipping upgrade: toolz>=0.8.0 in /usr/local/lib/python3.6/dist-packages (from cytoolz<0.10,>=0.9.0->thinc<6.13.0,>=6.12.1->spacy<=2.0.18,>2.0; extra == \"spacy\"->rasa_nlu[spacy]) (0.9.0)\n"
          ],
          "name": "stdout"
        }
      ]
    },
    {
      "metadata": {
        "id": "wkpDHJthxR4w",
        "colab_type": "code",
        "outputId": "c58ed421-62f6-48f9-9c81-7d5f0ae2f23d",
        "colab": {
          "base_uri": "https://localhost:8080/",
          "height": 394
        }
      },
      "cell_type": "code",
      "source": [
        "!{python} -m pip install -U rasa_core_sdk"
      ],
      "execution_count": 0,
      "outputs": [
        {
          "output_type": "stream",
          "text": [
            "Requirement already up-to-date: rasa_core_sdk in /usr/local/lib/python3.6/dist-packages (0.12.2)\n",
            "Requirement already satisfied, skipping upgrade: future~=0.16 in /usr/local/lib/python3.6/dist-packages (from rasa_core_sdk) (0.16.0)\n",
            "Requirement already satisfied, skipping upgrade: requests~=2.20 in /usr/local/lib/python3.6/dist-packages (from rasa_core_sdk) (2.21.0)\n",
            "Requirement already satisfied, skipping upgrade: flask~=1.0 in /usr/local/lib/python3.6/dist-packages (from rasa_core_sdk) (1.0.2)\n",
            "Requirement already satisfied, skipping upgrade: six~=1.11 in /usr/local/lib/python3.6/dist-packages (from rasa_core_sdk) (1.11.0)\n",
            "Requirement already satisfied, skipping upgrade: typing~=3.0 in /usr/local/lib/python3.6/dist-packages (from rasa_core_sdk) (3.6.6)\n",
            "Requirement already satisfied, skipping upgrade: ConfigArgParse~=0.13.0 in /usr/local/lib/python3.6/dist-packages (from rasa_core_sdk) (0.13.0)\n",
            "Requirement already satisfied, skipping upgrade: gevent~=1.2 in /usr/local/lib/python3.6/dist-packages (from rasa_core_sdk) (1.4.0)\n",
            "Requirement already satisfied, skipping upgrade: flask-cors~=3.0 in /usr/local/lib/python3.6/dist-packages (from rasa_core_sdk) (3.0.7)\n",
            "Requirement already satisfied, skipping upgrade: coloredlogs~=10.0 in /usr/local/lib/python3.6/dist-packages (from rasa_core_sdk) (10.0)\n",
            "Requirement already satisfied, skipping upgrade: certifi>=2017.4.17 in /usr/local/lib/python3.6/dist-packages (from requests~=2.20->rasa_core_sdk) (2018.11.29)\n",
            "Requirement already satisfied, skipping upgrade: chardet<3.1.0,>=3.0.2 in /usr/local/lib/python3.6/dist-packages (from requests~=2.20->rasa_core_sdk) (3.0.4)\n",
            "Requirement already satisfied, skipping upgrade: idna<2.9,>=2.5 in /usr/local/lib/python3.6/dist-packages (from requests~=2.20->rasa_core_sdk) (2.6)\n",
            "Requirement already satisfied, skipping upgrade: urllib3<1.25,>=1.21.1 in /usr/local/lib/python3.6/dist-packages (from requests~=2.20->rasa_core_sdk) (1.22)\n",
            "Requirement already satisfied, skipping upgrade: itsdangerous>=0.24 in /usr/local/lib/python3.6/dist-packages (from flask~=1.0->rasa_core_sdk) (1.1.0)\n",
            "Requirement already satisfied, skipping upgrade: Jinja2>=2.10 in /usr/local/lib/python3.6/dist-packages (from flask~=1.0->rasa_core_sdk) (2.10)\n",
            "Requirement already satisfied, skipping upgrade: click>=5.1 in /usr/local/lib/python3.6/dist-packages (from flask~=1.0->rasa_core_sdk) (7.0)\n",
            "Requirement already satisfied, skipping upgrade: Werkzeug>=0.14 in /usr/local/lib/python3.6/dist-packages (from flask~=1.0->rasa_core_sdk) (0.14.1)\n",
            "Requirement already satisfied, skipping upgrade: greenlet>=0.4.14; platform_python_implementation == \"CPython\" in /usr/local/lib/python3.6/dist-packages (from gevent~=1.2->rasa_core_sdk) (0.4.15)\n",
            "Requirement already satisfied, skipping upgrade: humanfriendly>=4.7 in /usr/local/lib/python3.6/dist-packages (from coloredlogs~=10.0->rasa_core_sdk) (4.18)\n",
            "Requirement already satisfied, skipping upgrade: MarkupSafe>=0.23 in /usr/local/lib/python3.6/dist-packages (from Jinja2>=2.10->flask~=1.0->rasa_core_sdk) (1.1.1)\n"
          ],
          "name": "stdout"
        }
      ]
    },
    {
      "metadata": {
        "id": "xKgXvfwcWVyw",
        "colab_type": "text"
      },
      "cell_type": "markdown",
      "source": [
        "**Installation of Eng language model via spaCy:**"
      ]
    },
    {
      "metadata": {
        "id": "64eEo6WPrO_g",
        "colab_type": "code",
        "outputId": "1f8bf182-a5b2-4055-9a91-963ef752d82f",
        "colab": {
          "base_uri": "https://localhost:8080/",
          "height": 173
        }
      },
      "cell_type": "code",
      "source": [
        "!{python} -m spacy download en_core_web_md"
      ],
      "execution_count": 0,
      "outputs": [
        {
          "output_type": "stream",
          "text": [
            "Requirement already satisfied: en_core_web_md==2.0.0 from https://github.com/explosion/spacy-models/releases/download/en_core_web_md-2.0.0/en_core_web_md-2.0.0.tar.gz#egg=en_core_web_md==2.0.0 in /usr/local/lib/python3.6/dist-packages (2.0.0)\n",
            "\n",
            "\u001b[93m    Linking successful\u001b[0m\n",
            "    /usr/local/lib/python3.6/dist-packages/en_core_web_md -->\n",
            "    /usr/local/lib/python3.6/dist-packages/spacy/data/en_core_web_md\n",
            "\n",
            "    You can now load the model via spacy.load('en_core_web_md')\n",
            "\n"
          ],
          "name": "stdout"
        }
      ]
    },
    {
      "metadata": {
        "id": "02YbaLtlrcDQ",
        "colab_type": "code",
        "outputId": "ae051efe-95ef-407f-bce4-c8d4dc6471d5",
        "colab": {
          "base_uri": "https://localhost:8080/",
          "height": 136
        }
      },
      "cell_type": "code",
      "source": [
        "!{python} -m spacy link en_core_web_md en --force;"
      ],
      "execution_count": 0,
      "outputs": [
        {
          "output_type": "stream",
          "text": [
            "\n",
            "\u001b[93m    Linking successful\u001b[0m\n",
            "    /usr/local/lib/python3.6/dist-packages/en_core_web_md -->\n",
            "    /usr/local/lib/python3.6/dist-packages/spacy/data/en\n",
            "\n",
            "    You can now load the model via spacy.load('en')\n",
            "\n"
          ],
          "name": "stdout"
        }
      ]
    },
    {
      "metadata": {
        "id": "5RGfyxuSTa4z",
        "colab_type": "text"
      },
      "cell_type": "markdown",
      "source": [
        "**Import RASA NLU and CORE with some other necessary imports:**"
      ]
    },
    {
      "metadata": {
        "id": "hPFljvajqSRi",
        "colab_type": "code",
        "colab": {}
      },
      "cell_type": "code",
      "source": [
        "import rasa_nlu\n",
        "import rasa_core\n",
        "import spacy"
      ],
      "execution_count": 0,
      "outputs": []
    },
    {
      "metadata": {
        "id": "IaNc2gkVqSRp",
        "colab_type": "code",
        "colab": {}
      },
      "cell_type": "code",
      "source": [
        "import logging, io, json, warnings\n",
        "logging.basicConfig(level=\"INFO\")\n",
        "warnings.filterwarnings('ignore')\n",
        "\n",
        "import sys\n",
        "python = sys.executable\n",
        "\n",
        "%matplotlib inline"
      ],
      "execution_count": 0,
      "outputs": []
    },
    {
      "metadata": {
        "id": "B3YuLMC9T-_b",
        "colab_type": "text"
      },
      "cell_type": "markdown",
      "source": [
        "**Lets start our work:**"
      ]
    },
    {
      "metadata": {
        "id": "28KOHE56XaQ3",
        "colab_type": "text"
      },
      "cell_type": "markdown",
      "source": [
        "**1.) UNDERSTAND USER'S INPUT**\n"
      ]
    },
    {
      "metadata": {
        "id": "2Do_9UwoX_Zd",
        "colab_type": "text"
      },
      "cell_type": "markdown",
      "source": [
        "►**Write Intent Classification file(training_file):**"
      ]
    },
    {
      "metadata": {
        "id": "2hfWU7ysqSSd",
        "colab_type": "code",
        "outputId": "9d3b07e0-55fc-4b03-ae33-8c1221fce225",
        "colab": {
          "base_uri": "https://localhost:8080/",
          "height": 34
        }
      },
      "cell_type": "code",
      "source": [
        "nlu_md = \"\"\"\n",
        "## intent:greet\n",
        "- hey\n",
        "- hello there\n",
        "- hi\n",
        "- hello there\n",
        "- good morning\n",
        "- good evening\n",
        "- moin\n",
        "- hey there\n",
        "- let's go\n",
        "- hey dude\n",
        "- goodmorning\n",
        "- goodevening\n",
        "- good afternoon\n",
        "\n",
        "## intent:goodbye\n",
        "- cu\n",
        "- good by\n",
        "- cee you later\n",
        "- good night\n",
        "- good afternoon\n",
        "- bye\n",
        "- goodbye\n",
        "- have a nice day\n",
        "- see you around\n",
        "- bye bye\n",
        "- see you later\n",
        "\n",
        "## intent:mood_affirm\n",
        "- yes\n",
        "- indeed\n",
        "- of course\n",
        "- that sounds good\n",
        "- correct\n",
        "\n",
        "## intent:mood_deny\n",
        "- no\n",
        "- never\n",
        "- I don't think so\n",
        "- don't like that\n",
        "- no way\n",
        "- not really\n",
        "\n",
        "## intent:mood_great\n",
        "- perfect\n",
        "- very good\n",
        "- great\n",
        "- amazing\n",
        "- feeling like a king\n",
        "- wonderful\n",
        "- I am feeling very good\n",
        "- I am great\n",
        "- I am amazing\n",
        "- I am going to save the world\n",
        "- super\n",
        "- extremely good\n",
        "- so so perfect\n",
        "- so good\n",
        "- so perfect\n",
        "\n",
        "## intent:mood_unhappy\n",
        "- my day was horrible\n",
        "- I am sad\n",
        "- I don't feel very well\n",
        "- I am disappointed\n",
        "- super sad\n",
        "- I'm so sad\n",
        "- sad\n",
        "- very sad\n",
        "- unhappy\n",
        "- bad\n",
        "- very bad\n",
        "- awful\n",
        "- terrible\n",
        "- not so good\n",
        "- not very good\n",
        "- extremly sad\n",
        "- so saad\n",
        "\n",
        "## intent: mood_sleepy\n",
        "- I need some sleep\n",
        "- need some sleep\n",
        "- kind of feeling nap\n",
        "- it's my nap-time\n",
        "- I should sleep.Will be exams tomorrow.\n",
        "\n",
        "## intent: inform\n",
        "- A [husband_wife](jokes:husband_wife) kind of jokes\n",
        "- A [teacher](jokes:teacher) jokes\n",
        "- A [father](jokes:father) jokes\n",
        "- A [husband_wife](jokes:husband_wife) will definitely make me laugh\n",
        "- A [teacher](jokes:teacher) will definitely make me laugh \n",
        "- A [father](jokes:father) jokes definitely make me laugh\n",
        "- I am fan of [father](jokes:father) jokes\n",
        "- I am fan of [husband_wife](jokes:husband_wife) jokes\n",
        "- I am fan of [teacher](jokes:teacher) jokes\n",
        "\"\"\"\n",
        "\n",
        "%store nlu_md > nlu.md"
      ],
      "execution_count": 0,
      "outputs": [
        {
          "output_type": "stream",
          "text": [
            "Writing 'nlu_md' (str) to file 'nlu.md'.\n"
          ],
          "name": "stdout"
        }
      ]
    },
    {
      "metadata": {
        "id": "WvBPU_x_YR6r",
        "colab_type": "text"
      },
      "cell_type": "markdown",
      "source": [
        "►**Define NLU model configuration:**"
      ]
    },
    {
      "metadata": {
        "id": "0a8G7TgHqSSk",
        "colab_type": "code",
        "outputId": "55524801-3342-48d2-a799-06faee2229fd",
        "colab": {
          "base_uri": "https://localhost:8080/",
          "height": 34
        }
      },
      "cell_type": "code",
      "source": [
        "config = \"\"\"\n",
        "\n",
        "language: \"en\"\n",
        "\n",
        "pipeline:\n",
        "- name: \"nlp_spacy\"\n",
        "- name: \"tokenizer_spacy\"\n",
        "- name: \"ner_crf\"\n",
        "- name: \"intent_featurizer_spacy\"\n",
        "- name: \"intent_classifier_sklearn\"\n",
        "- name: \"ner_synonyms\"\n",
        "\n",
        "\"\"\"\n",
        "\n",
        "%store config > config.yml"
      ],
      "execution_count": 0,
      "outputs": [
        {
          "output_type": "stream",
          "text": [
            "Writing 'config' (str) to file 'config.yml'.\n"
          ],
          "name": "stdout"
        }
      ]
    },
    {
      "metadata": {
        "id": "CPYpegpEYtQd",
        "colab_type": "text"
      },
      "cell_type": "markdown",
      "source": [
        "►**Input of training file into model configuration pipeline:**"
      ]
    },
    {
      "metadata": {
        "id": "sWUq4RdpqSSq",
        "colab_type": "code",
        "colab": {}
      },
      "cell_type": "code",
      "source": [
        "from rasa_nlu.training_data import load_data\n",
        "from rasa_nlu.config import RasaNLUModelConfig\n",
        "from rasa_nlu import config\n",
        "from rasa_nlu.model import Trainer"
      ],
      "execution_count": 0,
      "outputs": []
    },
    {
      "metadata": {
        "id": "uKvbe6n2qSSv",
        "colab_type": "code",
        "outputId": "ca50914a-b4f2-46d3-afa0-7f3ea30ae6ca",
        "colab": {
          "base_uri": "https://localhost:8080/",
          "height": 425
        }
      },
      "cell_type": "code",
      "source": [
        "training_data=load_data(\"nlu.md\")\n",
        "\n",
        "trainer=Trainer(config.load(\"config.yml\"))\n",
        "\n",
        "interpreter=trainer.train(training_data)\n",
        "\n",
        "model_directory=trainer.persist(\"./models/nlu\", fixed_model_name=\"current\")"
      ],
      "execution_count": 0,
      "outputs": [
        {
          "output_type": "stream",
          "text": [
            "INFO:rasa_nlu.training_data.loading:Training data format of nlu.md is md\n",
            "INFO:rasa_nlu.training_data.training_data:Training data stats: \n",
            "\t- intent examples: 81 (8 distinct intents)\n",
            "\t- Found intents: 'inform', 'greet', 'mood_sleepy', 'mood_unhappy', 'mood_deny', 'mood_great', 'mood_affirm', 'goodbye'\n",
            "\t- entity examples: 9 (1 distinct entities)\n",
            "\t- found entities: 'jokes'\n",
            "\n",
            "INFO:rasa_nlu.utils.spacy_utils:Trying to load spacy model with name 'en'\n",
            "INFO:rasa_nlu.components:Added 'nlp_spacy' to component cache. Key 'nlp_spacy-en'.\n",
            "INFO:rasa_nlu.model:Starting to train component nlp_spacy\n",
            "INFO:rasa_nlu.model:Finished training component.\n",
            "INFO:rasa_nlu.model:Starting to train component tokenizer_spacy\n",
            "INFO:rasa_nlu.model:Finished training component.\n",
            "INFO:rasa_nlu.model:Starting to train component ner_crf\n",
            "INFO:rasa_nlu.model:Finished training component.\n",
            "INFO:rasa_nlu.model:Starting to train component intent_featurizer_spacy\n",
            "INFO:rasa_nlu.model:Finished training component.\n",
            "INFO:rasa_nlu.model:Starting to train component intent_classifier_sklearn\n",
            "[Parallel(n_jobs=1)]: Done  12 out of  12 | elapsed:    0.1s finished\n",
            "INFO:rasa_nlu.model:Finished training component.\n",
            "INFO:rasa_nlu.model:Starting to train component ner_synonyms\n",
            "INFO:rasa_nlu.model:Finished training component.\n"
          ],
          "name": "stderr"
        },
        {
          "output_type": "stream",
          "text": [
            "Fitting 2 folds for each of 6 candidates, totalling 12 fits\n"
          ],
          "name": "stdout"
        },
        {
          "output_type": "stream",
          "text": [
            "INFO:rasa_nlu.model:Successfully saved model into '/content/models/nlu/default/current'\n"
          ],
          "name": "stderr"
        }
      ]
    },
    {
      "metadata": {
        "id": "mlkuR-zhY9PZ",
        "colab_type": "text"
      },
      "cell_type": "markdown",
      "source": [
        " ►**Test your training model:**"
      ]
    },
    {
      "metadata": {
        "id": "Fl3GzXhLqSS2",
        "colab_type": "code",
        "outputId": "70826720-d2bd-4e98-8eb2-342433728b85",
        "colab": {
          "base_uri": "https://localhost:8080/",
          "height": 884
        }
      },
      "cell_type": "code",
      "source": [
        "def pprint(o):\n",
        "    print(json.dumps(o,indent=2))\n",
        "\n",
        "\n",
        "pprint(interpreter.parse(\"I want to try a father jokes \"))"
      ],
      "execution_count": 0,
      "outputs": [
        {
          "output_type": "stream",
          "text": [
            "{\n",
            "  \"intent\": {\n",
            "    \"name\": \"inform\",\n",
            "    \"confidence\": 0.33012242189056423\n",
            "  },\n",
            "  \"entities\": [\n",
            "    {\n",
            "      \"start\": 16,\n",
            "      \"end\": 22,\n",
            "      \"value\": \"father\",\n",
            "      \"entity\": \"jokes\",\n",
            "      \"confidence\": 0.9652290885438746,\n",
            "      \"extractor\": \"ner_crf\"\n",
            "    }\n",
            "  ],\n",
            "  \"intent_ranking\": [\n",
            "    {\n",
            "      \"name\": \"inform\",\n",
            "      \"confidence\": 0.33012242189056423\n",
            "    },\n",
            "    {\n",
            "      \"name\": \"goodbye\",\n",
            "      \"confidence\": 0.15332761499547173\n",
            "    },\n",
            "    {\n",
            "      \"name\": \"mood_great\",\n",
            "      \"confidence\": 0.13159608415013385\n",
            "    },\n",
            "    {\n",
            "      \"name\": \"mood_unhappy\",\n",
            "      \"confidence\": 0.11170078894706005\n",
            "    },\n",
            "    {\n",
            "      \"name\": \"greet\",\n",
            "      \"confidence\": 0.10664917417409107\n",
            "    },\n",
            "    {\n",
            "      \"name\": \"mood_sleepy\",\n",
            "      \"confidence\": 0.06456937930382979\n",
            "    },\n",
            "    {\n",
            "      \"name\": \"mood_deny\",\n",
            "      \"confidence\": 0.05444139607471961\n",
            "    },\n",
            "    {\n",
            "      \"name\": \"mood_affirm\",\n",
            "      \"confidence\": 0.04759314046412972\n",
            "    }\n",
            "  ],\n",
            "  \"text\": \"I want to try a father jokes \"\n",
            "}\n"
          ],
          "name": "stdout"
        }
      ]
    },
    {
      "metadata": {
        "id": "CHk-6I_NqSS-",
        "colab_type": "code",
        "colab": {}
      },
      "cell_type": "code",
      "source": [
        ""
      ],
      "execution_count": 0,
      "outputs": []
    },
    {
      "metadata": {
        "id": "KGdX09s4Z05p",
        "colab_type": "text"
      },
      "cell_type": "markdown",
      "source": [
        "**2.)Teach your Bot 'How to reply on user's Input':**"
      ]
    },
    {
      "metadata": {
        "id": "fQ1jj8ZUaP3s",
        "colab_type": "text"
      },
      "cell_type": "markdown",
      "source": [
        "►**Write Conversational Flow  **"
      ]
    },
    {
      "metadata": {
        "id": "Fo9_syN5qSTF",
        "colab_type": "code",
        "outputId": "ff7a2a07-2d83-4c6e-dccb-13894affcce2",
        "colab": {
          "base_uri": "https://localhost:8080/",
          "height": 34
        }
      },
      "cell_type": "code",
      "source": [
        "stories_md = \"\"\"\n",
        "## happy path\n",
        "* greet\n",
        "  - utter_greet\n",
        "* mood_great\n",
        "  - utter_happy\n",
        "* mood_affirm\n",
        "  - utter_goodbye\n",
        "\n",
        "## sad path_1\n",
        "* greet\n",
        "  - utter_greet\n",
        "* mood_unhappy\n",
        "  - utter_ask_joke\n",
        "* mood_affirm\n",
        "  - utter_which_kind_joke\n",
        "* inform{\"jokes\":\"teacher\"}\n",
        "  - action_retrive_joke\n",
        "  - utter_did_that_help\n",
        "* mood_affirm\n",
        "  - utter_happy\n",
        "* goodbye\n",
        "  - utter_goodbye\n",
        "  \n",
        "## sad path _2\n",
        "* greet\n",
        "  - utter_greet\n",
        "* mood_unhappy\n",
        "  - utter_ask_joke\n",
        "* mood_deny\n",
        "  - utter_ask_again\n",
        "* mood_deny\n",
        "  -utter_goodbye\n",
        "  \n",
        "## sad path_3\n",
        "* greet\n",
        "  - utter_greet\n",
        "* mood_unhappy\n",
        "  - utter_ask_joke\n",
        "* mood_deny  \n",
        "  - utter_ask_again\n",
        "* mood_affirm\n",
        "  - utter_which_kind_joke\n",
        "* inform{\"jokes\":\"teacher\"}\n",
        "  - action_retrive_joke\n",
        "  - utter_did_that_help\n",
        "* mood_affirm\n",
        "  - utter_happy\n",
        "* goodbye\n",
        "  - utter_goodbye\n",
        "  \n",
        "## sad path_4\n",
        "* greet\n",
        "  - utter_greet\n",
        "* mood_unhappy\n",
        "  - utter_ask_joke\n",
        "* mood_affirm\n",
        "  - utter_which_kind_joke\n",
        "* inform{\"jokes\":\"husband_wife\"}\n",
        "  - action_retrive_joke\n",
        "  - utter_did_that_help\n",
        "* mood_affirm\n",
        "  - utter_happy\n",
        "* goodbye\n",
        "  - utter_goodbye\n",
        "  \n",
        "## sad path_5\n",
        "* greet\n",
        "  - utter_greet\n",
        "* mood_unhappy\n",
        "  - utter_ask_joke\n",
        "* mood_deny  \n",
        "  - utter_ask_again\n",
        "* mood_affirm\n",
        "  - utter_which_kind_joke\n",
        "* inform{\"jokes\":\"husband_wife\"}\n",
        "  - action_retrive_joke\n",
        "  - utter_did_that_help\n",
        "* mood_affirm\n",
        "  - utter_happy\n",
        "* goodbye\n",
        "  - utter_goodbye\n",
        "\n",
        "## sad path_6\n",
        "* greet\n",
        "  - utter_greet\n",
        "* mood_unhappy\n",
        "  - utter_ask_joke\n",
        "* mood_affirm\n",
        "  - utter_which_kind_joke\n",
        "* inform{\"jokes\":\"father\"}\n",
        "  - action_retrive_joke\n",
        "  - utter_did_that_help\n",
        "* mood_affirm\n",
        "  - utter_happy\n",
        "* goodbye\n",
        "  - utter_goodbye\n",
        "  \n",
        "## sad path_7\n",
        "* greet\n",
        "  - utter_greet\n",
        "* mood_unhappy\n",
        "  - utter_ask_joke\n",
        "* mood_deny  \n",
        "  - utter_ask_again\n",
        "* mood_affirm\n",
        "  - utter_which_kind_joke\n",
        "* inform{\"jokes\":\"father\"}\n",
        "  - action_retrive_joke\n",
        "  - utter_did_that_help\n",
        "* mood_affirm\n",
        "  - utter_happy\n",
        "* goodbye\n",
        "  - utter_goodbye  \n",
        "  \n",
        "## strange user\n",
        "* greet\n",
        "  - utter_greet\n",
        "* mood_sleepy\n",
        "  - utter_good_night\n",
        "* goodbye\n",
        "  - utter_goodbye\n",
        "\n",
        "## say goodbye\n",
        "* goodbye\n",
        "  - utter_goodbye\n",
        "\n",
        "## fallback\n",
        "- utter_unclear\n",
        "\n",
        "\"\"\"\n",
        "%store stories_md > stories.md\n",
        "  \n"
      ],
      "execution_count": 0,
      "outputs": [
        {
          "output_type": "stream",
          "text": [
            "Writing 'stories_md' (str) to file 'stories.md'.\n"
          ],
          "name": "stdout"
        }
      ]
    },
    {
      "metadata": {
        "id": "qYCo3f01axgv",
        "colab_type": "text"
      },
      "cell_type": "markdown",
      "source": [
        "►**Define Domain of the BOT(heart of the bot)**"
      ]
    },
    {
      "metadata": {
        "id": "UEBzcAZrqSTM",
        "colab_type": "code",
        "outputId": "3e815648-be4b-4bb5-9ed0-6268ff43479d",
        "colab": {
          "base_uri": "https://localhost:8080/",
          "height": 34
        }
      },
      "cell_type": "code",
      "source": [
        "domain_yml=\"\"\"\n",
        "\n",
        "intents:\n",
        "- greet\n",
        "- mood_great\n",
        "- mood_unhappy\n",
        "- goodbye\n",
        "- mood_affirm\n",
        "- mood_deny\n",
        "- mood_sleepy\n",
        "- inform\n",
        "\n",
        "slots:\n",
        "  jokes:\n",
        "    type: text\n",
        "\n",
        "entities:\n",
        "- jokes\n",
        "\n",
        "actions:\n",
        "- utter_greet\n",
        "- utter_happy\n",
        "- utter_goodbye\n",
        "- utter_did_that_help\n",
        "- utter_unclear\n",
        "- utter_ask_joke\n",
        "- utter_good_night\n",
        "- utter_ask_again\n",
        "- utter_ask_another_joke\n",
        "- utter_sorry\n",
        "- utter_which_kind_joke\n",
        "- actions.JokeTelling\n",
        "\n",
        "templates:\n",
        "  utter_greet:\n",
        "  - text: \"Hey!what's up buddy?\"\n",
        "  utter_happy:\n",
        "  - text: \"Very nice buddy!Keep it up\"\n",
        "  utter_goodbye:\n",
        "  - text: \"Meet u soon!\"\n",
        "  utter_did_that_help:\n",
        "  - text: \"Is it good for you now?\"\n",
        "  utter_ask_again:\n",
        "  - text: \"Do you really don't want to hear any of them?\"\n",
        "  utter_sorry:\n",
        "  - text: \"I'm really sorry but I can't help further.\"\n",
        "  utter_ask_another_joke:\n",
        "  - text: \"Do you want to hear another joke from me?\"\n",
        "  utter_unclear:\n",
        "  - text: \"I'm not getting you....\"\n",
        "  utter_ask_joke:\n",
        "  - text: \"I can tell you some jokes if it would help to cheer you up..Would you like to hear any joke?\"\n",
        "  utter_good_night:\n",
        "  - text: \"Good night..sleep well and have a lovely dream\"\n",
        "  utter_which_kind_joke:\n",
        "  - text: \"Which kind of joke would you like to listen?\"\n",
        "    buttons:\n",
        "    - title: 'teacher'\n",
        "      payload: '/inform{\"jokes\":\"teacher\"}'\n",
        "    - title: 'husband_wife'\n",
        "      payload: '/inform{\"jokes\":\"husband_wife\"}'\n",
        "    - title:  'father'\n",
        "      payload: '/inform{\"jokes\":\"father\"}'\n",
        "\"\"\"\n",
        "%store domain_yml > domain.yml"
      ],
      "execution_count": 0,
      "outputs": [
        {
          "output_type": "stream",
          "text": [
            "Writing 'domain_yml' (str) to file 'domain.yml'.\n"
          ],
          "name": "stdout"
        }
      ]
    },
    {
      "metadata": {
        "id": "5p7n56bat6-b",
        "colab_type": "text"
      },
      "cell_type": "markdown",
      "source": [
        "►**Visualization of training data**"
      ]
    },
    {
      "metadata": {
        "id": "L79tGjtPurwl",
        "colab_type": "code",
        "colab": {}
      },
      "cell_type": "code",
      "source": [
        "from IPython.core.display import Image, display"
      ],
      "execution_count": 0,
      "outputs": []
    },
    {
      "metadata": {
        "id": "pLKbCsEbRb5J",
        "colab_type": "code",
        "outputId": "5939f674-cc12-48ed-b6d3-e5fea847c1a4",
        "colab": {
          "base_uri": "https://localhost:8080/",
          "height": 51
        }
      },
      "cell_type": "code",
      "source": [
        "!apt-get -qq install -y graphviz libgraphviz-dev pkg-config;\n",
        "!breq install graphviz\n",
        "\n",
        "!{python} -m pip install pygraphviz;"
      ],
      "execution_count": 0,
      "outputs": [
        {
          "output_type": "stream",
          "text": [
            "/bin/bash: breq: command not found\n",
            "Requirement already satisfied: pygraphviz in /usr/local/lib/python3.6/dist-packages (1.5)\n"
          ],
          "name": "stdout"
        }
      ]
    },
    {
      "metadata": {
        "id": "6L_AOI6ARLuz",
        "colab_type": "code",
        "outputId": "81f62a17-6459-4e80-ee75-c37510c31572",
        "colab": {
          "base_uri": "https://localhost:8080/",
          "height": 1629
        }
      },
      "cell_type": "code",
      "source": [
        "from rasa_core.agent import Agent\n",
        "\n",
        "agent = Agent('domain.yml')\n",
        "agent.visualize(\"stories.md\", \"story_graph.png\", max_history=5)\n",
        "Image(filename=\"story_graph.png\")"
      ],
      "execution_count": 0,
      "outputs": [
        {
          "output_type": "stream",
          "text": [
            "Processed Story Blocks: 100%|██████████| 11/11 [00:00<00:00, 265.42it/s, # trackers=1]\n"
          ],
          "name": "stderr"
        },
        {
          "output_type": "execute_result",
          "data": {
            "image/png": "[encoded data removed]",
            "text/plain": [
              "<IPython.core.display.Image object>"
            ]
          },
          "metadata": {
            "tags": []
          },
          "execution_count": 47
        }
      ]
    },
    {
      "metadata": {
        "id": "UnhJ7JYm6sa-",
        "colab_type": "code",
        "colab": {}
      },
      "cell_type": "code",
      "source": [
        ""
      ],
      "execution_count": 0,
      "outputs": []
    },
    {
      "metadata": {
        "id": "bu7nK_LquN2n",
        "colab_type": "text"
      },
      "cell_type": "markdown",
      "source": [
        "►**Training of Dialogue Model(Policy Selection)**"
      ]
    },
    {
      "metadata": {
        "id": "jgRkqjURqSTj",
        "colab_type": "code",
        "outputId": "e2712465-6866-4f4a-a25c-7dbf2651030c",
        "colab": {
          "base_uri": "https://localhost:8080/",
          "height": 10744
        }
      },
      "cell_type": "code",
      "source": [
        "\n",
        "from rasa_core.policies import FallbackPolicy, KerasPolicy, MemoizationPolicy\n",
        "from rasa_core.agent import Agent\n",
        "\n",
        "fallback=FallbackPolicy(fallback_action_name=\"utter_unclear\",\n",
        "                        core_threshold=0.2,\n",
        "                        nlu_threshold=0.35)\n",
        "agent = Agent('domain.yml', policies=[MemoizationPolicy(), KerasPolicy(), fallback])\n",
        "\n",
        "training_data = agent.load_data('stories.md')\n",
        "\n",
        "agent.train(\n",
        "    training_data,\n",
        "    validation_split=0.0,\n",
        "    epochs=300\n",
        ")\n",
        "\n",
        "agent.persist('models/dialogue')"
      ],
      "execution_count": 0,
      "outputs": [
        {
          "output_type": "stream",
          "text": [
            "Processed Story Blocks: 100%|██████████| 11/11 [00:00<00:00, 348.09it/s, # trackers=1]\n",
            "Processed Story Blocks: 100%|██████████| 11/11 [00:00<00:00, 219.65it/s, # trackers=6]\n",
            "Processed Story Blocks: 100%|██████████| 11/11 [00:00<00:00, 156.77it/s, # trackers=11]\n",
            "Processed Story Blocks: 100%|██████████| 11/11 [00:00<00:00, 145.72it/s, # trackers=10]\n",
            "INFO:rasa_core.featurizers:Creating states and action examples from collected trackers (by MaxHistoryTrackerFeaturizer)...\n",
            "Processed trackers: 100%|██████████| 194/194 [00:11<00:00, 16.43it/s, # actions=193]\n",
            "INFO:rasa_core.featurizers:Created 193 action examples.\n",
            "Processed actions: 193it [00:00, 327.81it/s, # examples=193]\n",
            "INFO:rasa_core.policies.memoization:Memorized 193 unique action examples.\n",
            "INFO:rasa_core.featurizers:Creating states and action examples from collected trackers (by MaxHistoryTrackerFeaturizer)...\n",
            "Processed trackers: 100%|██████████| 194/194 [00:11<00:00, 15.70it/s, # actions=193]\n",
            "INFO:rasa_core.featurizers:Created 193 action examples.\n",
            "INFO:rasa_core.policies.keras_policy:Fitting model with 193 total samples and a validation split of 0.0\n"
          ],
          "name": "stderr"
        },
        {
          "output_type": "stream",
          "text": [
            "_________________________________________________________________\n",
            "Layer (type)                 Output Shape              Param #   \n",
            "=================================================================\n",
            "masking_2 (Masking)          (None, 5, 24)             0         \n",
            "_________________________________________________________________\n",
            "lstm_2 (LSTM)                (None, 32)                7296      \n",
            "_________________________________________________________________\n",
            "dense_2 (Dense)              (None, 14)                462       \n",
            "_________________________________________________________________\n",
            "activation_2 (Activation)    (None, 14)                0         \n",
            "=================================================================\n",
            "Total params: 7,758\n",
            "Trainable params: 7,758\n",
            "Non-trainable params: 0\n",
            "_________________________________________________________________\n",
            "Epoch 1/300\n",
            "193/193 [==============================] - 1s 3ms/step - loss: 2.5299 - acc: 0.3368\n",
            "Epoch 2/300\n",
            "193/193 [==============================] - 0s 230us/step - loss: 2.3945 - acc: 0.4767\n",
            "Epoch 3/300\n",
            "193/193 [==============================] - 0s 223us/step - loss: 2.3045 - acc: 0.5181\n",
            "Epoch 4/300\n",
            "193/193 [==============================] - 0s 228us/step - loss: 2.2056 - acc: 0.5233\n",
            "Epoch 5/300\n",
            "193/193 [==============================] - 0s 228us/step - loss: 2.0441 - acc: 0.5233\n",
            "Epoch 6/300\n",
            "193/193 [==============================] - 0s 225us/step - loss: 1.9562 - acc: 0.5233\n",
            "Epoch 7/300\n",
            "193/193 [==============================] - 0s 222us/step - loss: 1.8419 - acc: 0.5233\n",
            "Epoch 8/300\n",
            "193/193 [==============================] - 0s 222us/step - loss: 1.7939 - acc: 0.5233\n",
            "Epoch 9/300\n",
            "193/193 [==============================] - 0s 222us/step - loss: 1.7471 - acc: 0.5233\n",
            "Epoch 10/300\n",
            "193/193 [==============================] - 0s 220us/step - loss: 1.7388 - acc: 0.5233\n",
            "Epoch 11/300\n",
            "193/193 [==============================] - 0s 231us/step - loss: 1.7177 - acc: 0.5233\n",
            "Epoch 12/300\n",
            "193/193 [==============================] - 0s 262us/step - loss: 1.6831 - acc: 0.5233\n",
            "Epoch 13/300\n",
            "193/193 [==============================] - 0s 276us/step - loss: 1.6577 - acc: 0.5233\n",
            "Epoch 14/300\n",
            "193/193 [==============================] - 0s 245us/step - loss: 1.6439 - acc: 0.5233\n",
            "Epoch 15/300\n",
            "193/193 [==============================] - 0s 237us/step - loss: 1.6161 - acc: 0.5233\n",
            "Epoch 16/300\n",
            "193/193 [==============================] - 0s 239us/step - loss: 1.6109 - acc: 0.5233\n",
            "Epoch 17/300\n",
            "193/193 [==============================] - 0s 226us/step - loss: 1.6021 - acc: 0.5233\n",
            "Epoch 18/300\n",
            "193/193 [==============================] - 0s 221us/step - loss: 1.5703 - acc: 0.5233\n",
            "Epoch 19/300\n",
            "193/193 [==============================] - 0s 222us/step - loss: 1.5663 - acc: 0.5233\n",
            "Epoch 20/300\n",
            "193/193 [==============================] - 0s 222us/step - loss: 1.5330 - acc: 0.5233\n",
            "Epoch 21/300\n",
            "193/193 [==============================] - 0s 219us/step - loss: 1.5107 - acc: 0.5233\n",
            "Epoch 22/300\n",
            "193/193 [==============================] - 0s 222us/step - loss: 1.5238 - acc: 0.5233\n",
            "Epoch 23/300\n",
            "193/193 [==============================] - 0s 222us/step - loss: 1.5004 - acc: 0.5233\n",
            "Epoch 24/300\n",
            "193/193 [==============================] - 0s 223us/step - loss: 1.4903 - acc: 0.5233\n",
            "Epoch 25/300\n",
            "193/193 [==============================] - 0s 220us/step - loss: 1.4759 - acc: 0.5233\n",
            "Epoch 26/300\n",
            "193/193 [==============================] - 0s 240us/step - loss: 1.4472 - acc: 0.5233\n",
            "Epoch 27/300\n",
            "193/193 [==============================] - 0s 225us/step - loss: 1.4410 - acc: 0.5233\n",
            "Epoch 28/300\n",
            "193/193 [==============================] - 0s 223us/step - loss: 1.4351 - acc: 0.5233\n",
            "Epoch 29/300\n",
            "193/193 [==============================] - 0s 225us/step - loss: 1.4392 - acc: 0.5233\n",
            "Epoch 30/300\n",
            "193/193 [==============================] - 0s 226us/step - loss: 1.3971 - acc: 0.5233\n",
            "Epoch 31/300\n",
            "193/193 [==============================] - 0s 219us/step - loss: 1.3964 - acc: 0.5233\n",
            "Epoch 32/300\n",
            "193/193 [==============================] - 0s 292us/step - loss: 1.3802 - acc: 0.5233\n",
            "Epoch 33/300\n",
            "193/193 [==============================] - 0s 284us/step - loss: 1.3762 - acc: 0.5233\n",
            "Epoch 34/300\n",
            "193/193 [==============================] - 0s 270us/step - loss: 1.3490 - acc: 0.5233\n",
            "Epoch 35/300\n",
            "193/193 [==============================] - 0s 286us/step - loss: 1.3409 - acc: 0.5233\n",
            "Epoch 36/300\n",
            "193/193 [==============================] - 0s 229us/step - loss: 1.3169 - acc: 0.5285\n",
            "Epoch 37/300\n",
            "193/193 [==============================] - 0s 228us/step - loss: 1.3052 - acc: 0.5233\n",
            "Epoch 38/300\n",
            "193/193 [==============================] - 0s 233us/step - loss: 1.3157 - acc: 0.5233\n",
            "Epoch 39/300\n",
            "193/193 [==============================] - 0s 244us/step - loss: 1.2613 - acc: 0.5181\n",
            "Epoch 40/300\n",
            "193/193 [==============================] - 0s 232us/step - loss: 1.2810 - acc: 0.5233\n",
            "Epoch 41/300\n",
            "193/193 [==============================] - 0s 221us/step - loss: 1.2745 - acc: 0.5233\n",
            "Epoch 42/300\n",
            "193/193 [==============================] - 0s 221us/step - loss: 1.2333 - acc: 0.5285\n",
            "Epoch 43/300\n",
            "193/193 [==============================] - 0s 233us/step - loss: 1.2150 - acc: 0.5337\n",
            "Epoch 44/300\n",
            "193/193 [==============================] - 0s 225us/step - loss: 1.2089 - acc: 0.5233\n",
            "Epoch 45/300\n",
            "193/193 [==============================] - 0s 223us/step - loss: 1.1958 - acc: 0.5285\n",
            "Epoch 46/300\n",
            "193/193 [==============================] - 0s 219us/step - loss: 1.1780 - acc: 0.5440\n",
            "Epoch 47/300\n",
            "193/193 [==============================] - 0s 223us/step - loss: 1.1671 - acc: 0.5285\n",
            "Epoch 48/300\n",
            "193/193 [==============================] - 0s 225us/step - loss: 1.1598 - acc: 0.5596\n",
            "Epoch 49/300\n",
            "193/193 [==============================] - 0s 222us/step - loss: 1.1368 - acc: 0.5492\n",
            "Epoch 50/300\n",
            "193/193 [==============================] - 0s 224us/step - loss: 1.1347 - acc: 0.5544\n",
            "Epoch 51/300\n",
            "193/193 [==============================] - 0s 218us/step - loss: 1.0870 - acc: 0.5648\n",
            "Epoch 52/300\n",
            "193/193 [==============================] - 0s 227us/step - loss: 1.1276 - acc: 0.5440\n",
            "Epoch 53/300\n",
            "193/193 [==============================] - 0s 220us/step - loss: 1.0809 - acc: 0.5337\n",
            "Epoch 54/300\n",
            "193/193 [==============================] - 0s 229us/step - loss: 1.0714 - acc: 0.5389\n",
            "Epoch 55/300\n",
            "193/193 [==============================] - 0s 225us/step - loss: 1.0608 - acc: 0.5440\n",
            "Epoch 56/300\n",
            "193/193 [==============================] - 0s 220us/step - loss: 1.0488 - acc: 0.5492\n",
            "Epoch 57/300\n",
            "193/193 [==============================] - 0s 295us/step - loss: 1.0092 - acc: 0.5492\n",
            "Epoch 58/300\n",
            "193/193 [==============================] - 0s 237us/step - loss: 1.0215 - acc: 0.5440\n",
            "Epoch 59/300\n",
            "193/193 [==============================] - 0s 239us/step - loss: 0.9915 - acc: 0.6114\n",
            "Epoch 60/300\n",
            "193/193 [==============================] - 0s 239us/step - loss: 0.9845 - acc: 0.6632\n",
            "Epoch 61/300\n",
            "193/193 [==============================] - 0s 236us/step - loss: 0.9486 - acc: 0.5907\n",
            "Epoch 62/300\n",
            "193/193 [==============================] - 0s 222us/step - loss: 0.9591 - acc: 0.6114\n",
            "Epoch 63/300\n",
            "193/193 [==============================] - 0s 225us/step - loss: 0.9534 - acc: 0.5907\n",
            "Epoch 64/300\n",
            "193/193 [==============================] - 0s 225us/step - loss: 0.9339 - acc: 0.5959\n",
            "Epoch 65/300\n",
            "193/193 [==============================] - 0s 225us/step - loss: 0.9119 - acc: 0.6062\n",
            "Epoch 66/300\n",
            "193/193 [==============================] - 0s 221us/step - loss: 0.9397 - acc: 0.5907\n",
            "Epoch 67/300\n",
            "193/193 [==============================] - 0s 222us/step - loss: 0.8953 - acc: 0.6010\n",
            "Epoch 68/300\n",
            "193/193 [==============================] - 0s 239us/step - loss: 0.8869 - acc: 0.6321\n",
            "Epoch 69/300\n",
            "193/193 [==============================] - 0s 229us/step - loss: 0.8452 - acc: 0.7306\n",
            "Epoch 70/300\n",
            "193/193 [==============================] - 0s 227us/step - loss: 0.8152 - acc: 0.7772\n",
            "Epoch 71/300\n",
            "193/193 [==============================] - 0s 220us/step - loss: 0.8089 - acc: 0.7254\n",
            "Epoch 72/300\n",
            "193/193 [==============================] - 0s 226us/step - loss: 0.7892 - acc: 0.7513\n",
            "Epoch 73/300\n",
            "193/193 [==============================] - 0s 221us/step - loss: 0.7868 - acc: 0.7876\n",
            "Epoch 74/300\n",
            "193/193 [==============================] - 0s 228us/step - loss: 0.7611 - acc: 0.7876\n",
            "Epoch 75/300\n",
            "193/193 [==============================] - 0s 218us/step - loss: 0.7325 - acc: 0.8187\n",
            "Epoch 76/300\n",
            "193/193 [==============================] - 0s 230us/step - loss: 0.7470 - acc: 0.7927\n",
            "Epoch 77/300\n",
            "193/193 [==============================] - 0s 225us/step - loss: 0.7261 - acc: 0.8549\n",
            "Epoch 78/300\n",
            "193/193 [==============================] - 0s 224us/step - loss: 0.7023 - acc: 0.8756\n",
            "Epoch 79/300\n",
            "193/193 [==============================] - 0s 268us/step - loss: 0.6740 - acc: 0.8705\n",
            "Epoch 80/300\n",
            "193/193 [==============================] - 0s 284us/step - loss: 0.6769 - acc: 0.8601\n",
            "Epoch 81/300\n",
            "193/193 [==============================] - 0s 238us/step - loss: 0.6469 - acc: 0.8653\n",
            "Epoch 82/300\n",
            "193/193 [==============================] - 0s 242us/step - loss: 0.6678 - acc: 0.8446\n",
            "Epoch 83/300\n",
            "193/193 [==============================] - 0s 218us/step - loss: 0.6285 - acc: 0.8705\n",
            "Epoch 84/300\n",
            "193/193 [==============================] - 0s 247us/step - loss: 0.6192 - acc: 0.8497\n",
            "Epoch 85/300\n",
            "193/193 [==============================] - 0s 236us/step - loss: 0.5935 - acc: 0.9171\n",
            "Epoch 86/300\n",
            "193/193 [==============================] - 0s 232us/step - loss: 0.5812 - acc: 0.8860\n",
            "Epoch 87/300\n",
            "193/193 [==============================] - 0s 231us/step - loss: 0.5590 - acc: 0.9119\n",
            "Epoch 88/300\n",
            "193/193 [==============================] - 0s 233us/step - loss: 0.5418 - acc: 0.9119\n",
            "Epoch 89/300\n",
            "193/193 [==============================] - 0s 229us/step - loss: 0.5309 - acc: 0.9482\n",
            "Epoch 90/300\n",
            "193/193 [==============================] - 0s 227us/step - loss: 0.5168 - acc: 0.9223\n",
            "Epoch 91/300\n",
            "193/193 [==============================] - 0s 228us/step - loss: 0.5163 - acc: 0.9275\n",
            "Epoch 92/300\n",
            "193/193 [==============================] - 0s 246us/step - loss: 0.5116 - acc: 0.9016\n",
            "Epoch 93/300\n",
            "193/193 [==============================] - 0s 228us/step - loss: 0.4621 - acc: 0.9534\n",
            "Epoch 94/300\n",
            "193/193 [==============================] - 0s 228us/step - loss: 0.5056 - acc: 0.8964\n",
            "Epoch 95/300\n",
            "193/193 [==============================] - 0s 231us/step - loss: 0.4617 - acc: 0.9430\n",
            "Epoch 96/300\n",
            "193/193 [==============================] - 0s 222us/step - loss: 0.4711 - acc: 0.9326\n",
            "Epoch 97/300\n",
            "193/193 [==============================] - 0s 234us/step - loss: 0.4586 - acc: 0.9482\n",
            "Epoch 98/300\n",
            "193/193 [==============================] - 0s 228us/step - loss: 0.4497 - acc: 0.9430\n",
            "Epoch 99/300\n",
            "193/193 [==============================] - 0s 222us/step - loss: 0.4411 - acc: 0.9326\n",
            "Epoch 100/300\n",
            "193/193 [==============================] - 0s 225us/step - loss: 0.4211 - acc: 0.9534\n",
            "Epoch 101/300\n",
            "193/193 [==============================] - 0s 267us/step - loss: 0.4158 - acc: 0.9326\n",
            "Epoch 102/300\n",
            "193/193 [==============================] - 0s 254us/step - loss: 0.4197 - acc: 0.9275\n",
            "Epoch 103/300\n",
            "193/193 [==============================] - 0s 239us/step - loss: 0.3596 - acc: 0.9689\n",
            "Epoch 104/300\n",
            "193/193 [==============================] - 0s 249us/step - loss: 0.3890 - acc: 0.9637\n",
            "Epoch 105/300\n",
            "193/193 [==============================] - 0s 223us/step - loss: 0.3757 - acc: 0.9482\n",
            "Epoch 106/300\n",
            "193/193 [==============================] - 0s 234us/step - loss: 0.3778 - acc: 0.9689\n",
            "Epoch 107/300\n",
            "193/193 [==============================] - 0s 230us/step - loss: 0.3818 - acc: 0.9326\n",
            "Epoch 108/300\n",
            "193/193 [==============================] - 0s 230us/step - loss: 0.3643 - acc: 0.9534\n",
            "Epoch 109/300\n",
            "193/193 [==============================] - 0s 224us/step - loss: 0.3251 - acc: 0.9637\n",
            "Epoch 110/300\n",
            "193/193 [==============================] - 0s 224us/step - loss: 0.3207 - acc: 0.9689\n",
            "Epoch 111/300\n",
            "193/193 [==============================] - 0s 234us/step - loss: 0.3567 - acc: 0.9585\n",
            "Epoch 112/300\n",
            "193/193 [==============================] - 0s 230us/step - loss: 0.3378 - acc: 0.9430\n",
            "Epoch 113/300\n",
            "193/193 [==============================] - 0s 222us/step - loss: 0.3347 - acc: 0.9637\n",
            "Epoch 114/300\n",
            "193/193 [==============================] - 0s 232us/step - loss: 0.3297 - acc: 0.9585\n",
            "Epoch 115/300\n",
            "193/193 [==============================] - 0s 225us/step - loss: 0.3362 - acc: 0.9585\n",
            "Epoch 116/300\n",
            "193/193 [==============================] - 0s 222us/step - loss: 0.3121 - acc: 0.9585\n",
            "Epoch 117/300\n",
            "193/193 [==============================] - 0s 223us/step - loss: 0.3028 - acc: 0.9689\n",
            "Epoch 118/300\n",
            "193/193 [==============================] - 0s 240us/step - loss: 0.3310 - acc: 0.9482\n",
            "Epoch 119/300\n",
            "193/193 [==============================] - 0s 230us/step - loss: 0.3008 - acc: 0.9637\n",
            "Epoch 120/300\n",
            "193/193 [==============================] - 0s 212us/step - loss: 0.2867 - acc: 0.9845\n",
            "Epoch 121/300\n",
            "193/193 [==============================] - 0s 217us/step - loss: 0.2861 - acc: 0.9585\n",
            "Epoch 122/300\n",
            "193/193 [==============================] - 0s 227us/step - loss: 0.2732 - acc: 0.9637\n",
            "Epoch 123/300\n",
            "193/193 [==============================] - 0s 223us/step - loss: 0.2675 - acc: 0.9689\n",
            "Epoch 124/300\n",
            "193/193 [==============================] - 0s 297us/step - loss: 0.2361 - acc: 0.9896\n",
            "Epoch 125/300\n",
            "193/193 [==============================] - 0s 241us/step - loss: 0.2569 - acc: 0.9793\n",
            "Epoch 126/300\n",
            "193/193 [==============================] - 0s 249us/step - loss: 0.2550 - acc: 0.9793\n",
            "Epoch 127/300\n",
            "193/193 [==============================] - 0s 221us/step - loss: 0.2730 - acc: 0.9534\n",
            "Epoch 128/300\n",
            "193/193 [==============================] - 0s 221us/step - loss: 0.2766 - acc: 0.9534\n",
            "Epoch 129/300\n",
            "193/193 [==============================] - 0s 240us/step - loss: 0.2508 - acc: 0.9793\n",
            "Epoch 130/300\n",
            "193/193 [==============================] - 0s 242us/step - loss: 0.2209 - acc: 0.9741\n",
            "Epoch 131/300\n",
            "193/193 [==============================] - 0s 226us/step - loss: 0.2313 - acc: 0.9896\n",
            "Epoch 132/300\n",
            "193/193 [==============================] - 0s 227us/step - loss: 0.2380 - acc: 0.9845\n",
            "Epoch 133/300\n",
            "193/193 [==============================] - 0s 216us/step - loss: 0.2124 - acc: 0.9896\n",
            "Epoch 134/300\n",
            "193/193 [==============================] - 0s 224us/step - loss: 0.1997 - acc: 0.9896\n",
            "Epoch 135/300\n",
            "193/193 [==============================] - 0s 224us/step - loss: 0.2121 - acc: 0.9793\n",
            "Epoch 136/300\n",
            "193/193 [==============================] - 0s 224us/step - loss: 0.2248 - acc: 0.9689\n",
            "Epoch 137/300\n",
            "193/193 [==============================] - 0s 225us/step - loss: 0.1985 - acc: 0.9793\n",
            "Epoch 138/300\n",
            "193/193 [==============================] - 0s 226us/step - loss: 0.2200 - acc: 0.9585\n",
            "Epoch 139/300\n",
            "193/193 [==============================] - 0s 225us/step - loss: 0.2028 - acc: 1.0000\n",
            "Epoch 140/300\n",
            "193/193 [==============================] - 0s 221us/step - loss: 0.1943 - acc: 0.9793\n",
            "Epoch 141/300\n",
            "193/193 [==============================] - 0s 214us/step - loss: 0.2151 - acc: 0.9689\n",
            "Epoch 142/300\n",
            "193/193 [==============================] - 0s 233us/step - loss: 0.1842 - acc: 0.9845\n",
            "Epoch 143/300\n",
            "193/193 [==============================] - 0s 223us/step - loss: 0.1752 - acc: 0.9741\n",
            "Epoch 144/300\n",
            "193/193 [==============================] - 0s 233us/step - loss: 0.2141 - acc: 0.9637\n",
            "Epoch 145/300\n",
            "193/193 [==============================] - 0s 223us/step - loss: 0.1509 - acc: 0.9896\n",
            "Epoch 146/300\n",
            "193/193 [==============================] - 0s 298us/step - loss: 0.1819 - acc: 0.9793\n",
            "Epoch 147/300\n",
            "193/193 [==============================] - 0s 249us/step - loss: 0.1876 - acc: 0.9741\n",
            "Epoch 148/300\n",
            "193/193 [==============================] - 0s 251us/step - loss: 0.2029 - acc: 0.9689\n",
            "Epoch 149/300\n",
            "193/193 [==============================] - 0s 223us/step - loss: 0.1732 - acc: 0.9896\n",
            "Epoch 150/300\n",
            "193/193 [==============================] - 0s 240us/step - loss: 0.1702 - acc: 0.9845\n",
            "Epoch 151/300\n",
            "193/193 [==============================] - 0s 234us/step - loss: 0.1504 - acc: 0.9793\n",
            "Epoch 152/300\n",
            "193/193 [==============================] - 0s 237us/step - loss: 0.1705 - acc: 0.9585\n",
            "Epoch 153/300\n",
            "193/193 [==============================] - 0s 227us/step - loss: 0.1655 - acc: 0.9896\n",
            "Epoch 154/300\n",
            "193/193 [==============================] - 0s 231us/step - loss: 0.1356 - acc: 0.9896\n",
            "Epoch 155/300\n",
            "193/193 [==============================] - 0s 234us/step - loss: 0.1584 - acc: 0.9896\n",
            "Epoch 156/300\n",
            "193/193 [==============================] - 0s 230us/step - loss: 0.1453 - acc: 0.9896\n",
            "Epoch 157/300\n",
            "193/193 [==============================] - 0s 224us/step - loss: 0.1816 - acc: 0.9689\n",
            "Epoch 158/300\n",
            "193/193 [==============================] - 0s 221us/step - loss: 0.1314 - acc: 0.9948\n",
            "Epoch 159/300\n",
            "193/193 [==============================] - 0s 226us/step - loss: 0.1382 - acc: 0.9948\n",
            "Epoch 160/300\n",
            "193/193 [==============================] - 0s 222us/step - loss: 0.1391 - acc: 1.0000\n",
            "Epoch 161/300\n",
            "193/193 [==============================] - 0s 228us/step - loss: 0.1166 - acc: 0.9948\n",
            "Epoch 162/300\n",
            "193/193 [==============================] - 0s 220us/step - loss: 0.1354 - acc: 0.9896\n",
            "Epoch 163/300\n",
            "193/193 [==============================] - 0s 227us/step - loss: 0.1368 - acc: 0.9793\n",
            "Epoch 164/300\n",
            "193/193 [==============================] - 0s 228us/step - loss: 0.1330 - acc: 0.9845\n",
            "Epoch 165/300\n",
            "193/193 [==============================] - 0s 224us/step - loss: 0.1237 - acc: 0.9741\n",
            "Epoch 166/300\n",
            "193/193 [==============================] - 0s 222us/step - loss: 0.1378 - acc: 0.9689\n",
            "Epoch 167/300\n",
            "193/193 [==============================] - 0s 232us/step - loss: 0.1423 - acc: 0.9845\n",
            "Epoch 168/300\n",
            "193/193 [==============================] - 0s 401us/step - loss: 0.1349 - acc: 0.9896\n",
            "Epoch 169/300\n",
            "193/193 [==============================] - 0s 228us/step - loss: 0.1221 - acc: 0.9896\n",
            "Epoch 170/300\n",
            "193/193 [==============================] - 0s 250us/step - loss: 0.1351 - acc: 0.9845\n",
            "Epoch 171/300\n",
            "193/193 [==============================] - 0s 221us/step - loss: 0.1130 - acc: 0.9896\n",
            "Epoch 172/300\n",
            "193/193 [==============================] - 0s 229us/step - loss: 0.1323 - acc: 0.9741\n",
            "Epoch 173/300\n",
            "193/193 [==============================] - 0s 247us/step - loss: 0.1168 - acc: 0.9896\n",
            "Epoch 174/300\n",
            "193/193 [==============================] - 0s 248us/step - loss: 0.1004 - acc: 0.9896\n",
            "Epoch 175/300\n",
            "193/193 [==============================] - 0s 247us/step - loss: 0.1263 - acc: 0.9845\n",
            "Epoch 176/300\n",
            "193/193 [==============================] - 0s 242us/step - loss: 0.1238 - acc: 0.9689\n",
            "Epoch 177/300\n",
            "193/193 [==============================] - 0s 244us/step - loss: 0.1113 - acc: 0.9845\n",
            "Epoch 178/300\n",
            "193/193 [==============================] - 0s 241us/step - loss: 0.1177 - acc: 0.9948\n",
            "Epoch 179/300\n",
            "193/193 [==============================] - 0s 241us/step - loss: 0.1145 - acc: 0.9793\n",
            "Epoch 180/300\n",
            "193/193 [==============================] - 0s 258us/step - loss: 0.0970 - acc: 0.9948\n",
            "Epoch 181/300\n",
            "193/193 [==============================] - 0s 238us/step - loss: 0.1090 - acc: 0.9948\n",
            "Epoch 182/300\n",
            "193/193 [==============================] - 0s 250us/step - loss: 0.1113 - acc: 0.9845\n",
            "Epoch 183/300\n",
            "193/193 [==============================] - 0s 238us/step - loss: 0.1173 - acc: 0.9896\n",
            "Epoch 184/300\n",
            "193/193 [==============================] - 0s 241us/step - loss: 0.1269 - acc: 0.9845\n",
            "Epoch 185/300\n",
            "193/193 [==============================] - 0s 243us/step - loss: 0.0993 - acc: 0.9948\n",
            "Epoch 186/300\n",
            "193/193 [==============================] - 0s 240us/step - loss: 0.0884 - acc: 0.9948\n",
            "Epoch 187/300\n",
            "193/193 [==============================] - 0s 248us/step - loss: 0.0939 - acc: 0.9948\n",
            "Epoch 188/300\n",
            "193/193 [==============================] - 0s 245us/step - loss: 0.0932 - acc: 0.9948\n",
            "Epoch 189/300\n",
            "193/193 [==============================] - 0s 324us/step - loss: 0.0897 - acc: 0.9948\n",
            "Epoch 190/300\n",
            "193/193 [==============================] - 0s 248us/step - loss: 0.1039 - acc: 0.9896\n",
            "Epoch 191/300\n",
            "193/193 [==============================] - 0s 247us/step - loss: 0.0833 - acc: 0.9948\n",
            "Epoch 192/300\n",
            "193/193 [==============================] - 0s 252us/step - loss: 0.0909 - acc: 0.9845\n",
            "Epoch 193/300\n",
            "193/193 [==============================] - 0s 241us/step - loss: 0.1161 - acc: 0.9741\n",
            "Epoch 194/300\n",
            "193/193 [==============================] - 0s 241us/step - loss: 0.0745 - acc: 0.9948\n",
            "Epoch 195/300\n",
            "193/193 [==============================] - 0s 242us/step - loss: 0.0894 - acc: 0.9845\n",
            "Epoch 196/300\n",
            "193/193 [==============================] - 0s 237us/step - loss: 0.0830 - acc: 1.0000\n",
            "Epoch 197/300\n",
            "193/193 [==============================] - 0s 252us/step - loss: 0.0731 - acc: 0.9896\n",
            "Epoch 198/300\n",
            "193/193 [==============================] - 0s 242us/step - loss: 0.0810 - acc: 0.9948\n",
            "Epoch 199/300\n",
            "193/193 [==============================] - 0s 243us/step - loss: 0.0786 - acc: 0.9948\n",
            "Epoch 200/300\n",
            "193/193 [==============================] - 0s 235us/step - loss: 0.0779 - acc: 0.9896\n",
            "Epoch 201/300\n",
            "193/193 [==============================] - 0s 242us/step - loss: 0.0857 - acc: 0.9948\n",
            "Epoch 202/300\n",
            "193/193 [==============================] - 0s 245us/step - loss: 0.0947 - acc: 0.9896\n",
            "Epoch 203/300\n",
            "193/193 [==============================] - 0s 249us/step - loss: 0.0818 - acc: 0.9896\n",
            "Epoch 204/300\n",
            "193/193 [==============================] - 0s 260us/step - loss: 0.0877 - acc: 0.9845\n",
            "Epoch 205/300\n",
            "193/193 [==============================] - 0s 248us/step - loss: 0.0714 - acc: 0.9948\n",
            "Epoch 206/300\n",
            "193/193 [==============================] - 0s 255us/step - loss: 0.0743 - acc: 1.0000\n",
            "Epoch 207/300\n",
            "193/193 [==============================] - 0s 252us/step - loss: 0.0613 - acc: 1.0000\n",
            "Epoch 208/300\n",
            "193/193 [==============================] - 0s 241us/step - loss: 0.0798 - acc: 0.9845\n",
            "Epoch 209/300\n",
            "193/193 [==============================] - 0s 288us/step - loss: 0.0662 - acc: 1.0000\n",
            "Epoch 210/300\n",
            "193/193 [==============================] - 0s 273us/step - loss: 0.0732 - acc: 0.9896\n",
            "Epoch 211/300\n",
            "193/193 [==============================] - 0s 243us/step - loss: 0.0726 - acc: 0.9948\n",
            "Epoch 212/300\n",
            "193/193 [==============================] - 0s 241us/step - loss: 0.0747 - acc: 0.9948\n",
            "Epoch 213/300\n",
            "193/193 [==============================] - 0s 240us/step - loss: 0.0757 - acc: 0.9948\n",
            "Epoch 214/300\n",
            "193/193 [==============================] - 0s 254us/step - loss: 0.0736 - acc: 0.9896\n",
            "Epoch 215/300\n",
            "193/193 [==============================] - 0s 263us/step - loss: 0.0579 - acc: 0.9948\n",
            "Epoch 216/300\n",
            "193/193 [==============================] - 0s 242us/step - loss: 0.0614 - acc: 0.9948\n",
            "Epoch 217/300\n",
            "193/193 [==============================] - 0s 244us/step - loss: 0.0614 - acc: 0.9948\n",
            "Epoch 218/300\n",
            "193/193 [==============================] - 0s 266us/step - loss: 0.0532 - acc: 1.0000\n",
            "Epoch 219/300\n",
            "193/193 [==============================] - 0s 244us/step - loss: 0.0638 - acc: 0.9845\n",
            "Epoch 220/300\n",
            "193/193 [==============================] - 0s 250us/step - loss: 0.0799 - acc: 0.9845\n",
            "Epoch 221/300\n",
            "193/193 [==============================] - 0s 257us/step - loss: 0.0543 - acc: 1.0000\n",
            "Epoch 222/300\n",
            "193/193 [==============================] - 0s 250us/step - loss: 0.0559 - acc: 1.0000\n",
            "Epoch 223/300\n",
            "193/193 [==============================] - 0s 253us/step - loss: 0.0642 - acc: 0.9793\n",
            "Epoch 224/300\n",
            "193/193 [==============================] - 0s 256us/step - loss: 0.0484 - acc: 0.9948\n",
            "Epoch 225/300\n",
            "193/193 [==============================] - 0s 238us/step - loss: 0.0492 - acc: 1.0000\n",
            "Epoch 226/300\n",
            "193/193 [==============================] - 0s 263us/step - loss: 0.0515 - acc: 0.9948\n",
            "Epoch 227/300\n",
            "193/193 [==============================] - 0s 220us/step - loss: 0.0667 - acc: 0.9896\n",
            "Epoch 228/300\n",
            "193/193 [==============================] - 0s 245us/step - loss: 0.0699 - acc: 0.9845\n",
            "Epoch 229/300\n",
            "193/193 [==============================] - 0s 243us/step - loss: 0.0685 - acc: 0.9793\n",
            "Epoch 230/300\n",
            "193/193 [==============================] - 0s 314us/step - loss: 0.0485 - acc: 1.0000\n",
            "Epoch 231/300\n",
            "193/193 [==============================] - 0s 230us/step - loss: 0.0549 - acc: 1.0000\n",
            "Epoch 232/300\n",
            "193/193 [==============================] - 0s 244us/step - loss: 0.0511 - acc: 0.9948\n",
            "Epoch 233/300\n",
            "193/193 [==============================] - 0s 247us/step - loss: 0.0454 - acc: 1.0000\n",
            "Epoch 234/300\n",
            "193/193 [==============================] - 0s 244us/step - loss: 0.0565 - acc: 0.9896\n",
            "Epoch 235/300\n",
            "193/193 [==============================] - 0s 246us/step - loss: 0.0427 - acc: 0.9896\n",
            "Epoch 236/300\n",
            "193/193 [==============================] - 0s 239us/step - loss: 0.0477 - acc: 0.9896\n",
            "Epoch 237/300\n",
            "193/193 [==============================] - 0s 243us/step - loss: 0.0385 - acc: 1.0000\n",
            "Epoch 238/300\n",
            "193/193 [==============================] - 0s 242us/step - loss: 0.0493 - acc: 0.9845\n",
            "Epoch 239/300\n",
            "193/193 [==============================] - 0s 250us/step - loss: 0.0490 - acc: 0.9948\n",
            "Epoch 240/300\n",
            "193/193 [==============================] - 0s 262us/step - loss: 0.0583 - acc: 0.9845\n",
            "Epoch 241/300\n",
            "193/193 [==============================] - 0s 257us/step - loss: 0.0459 - acc: 0.9896\n",
            "Epoch 242/300\n",
            "193/193 [==============================] - 0s 256us/step - loss: 0.0464 - acc: 0.9948\n",
            "Epoch 243/300\n",
            "193/193 [==============================] - 0s 240us/step - loss: 0.0528 - acc: 0.9845\n",
            "Epoch 244/300\n",
            "193/193 [==============================] - 0s 237us/step - loss: 0.0463 - acc: 1.0000\n",
            "Epoch 245/300\n",
            "193/193 [==============================] - 0s 239us/step - loss: 0.0619 - acc: 0.9896\n",
            "Epoch 246/300\n",
            "193/193 [==============================] - 0s 242us/step - loss: 0.0499 - acc: 0.9948\n",
            "Epoch 247/300\n",
            "193/193 [==============================] - 0s 244us/step - loss: 0.0519 - acc: 0.9896\n",
            "Epoch 248/300\n",
            "193/193 [==============================] - 0s 246us/step - loss: 0.0467 - acc: 0.9896\n",
            "Epoch 249/300\n",
            "193/193 [==============================] - 0s 244us/step - loss: 0.0415 - acc: 0.9948\n",
            "Epoch 250/300\n",
            "193/193 [==============================] - 0s 244us/step - loss: 0.0572 - acc: 0.9896\n",
            "Epoch 251/300\n",
            "193/193 [==============================] - 0s 322us/step - loss: 0.0444 - acc: 1.0000\n",
            "Epoch 252/300\n",
            "193/193 [==============================] - 0s 244us/step - loss: 0.0370 - acc: 1.0000\n",
            "Epoch 253/300\n",
            "193/193 [==============================] - 0s 249us/step - loss: 0.0497 - acc: 0.9948\n",
            "Epoch 254/300\n",
            "193/193 [==============================] - 0s 244us/step - loss: 0.0421 - acc: 0.9896\n",
            "Epoch 255/300\n",
            "193/193 [==============================] - 0s 245us/step - loss: 0.0456 - acc: 0.9948\n",
            "Epoch 256/300\n",
            "193/193 [==============================] - 0s 243us/step - loss: 0.0534 - acc: 0.9948\n",
            "Epoch 257/300\n",
            "193/193 [==============================] - 0s 245us/step - loss: 0.0409 - acc: 1.0000\n",
            "Epoch 258/300\n",
            "193/193 [==============================] - 0s 242us/step - loss: 0.0372 - acc: 1.0000\n",
            "Epoch 259/300\n",
            "193/193 [==============================] - 0s 254us/step - loss: 0.0460 - acc: 1.0000\n",
            "Epoch 260/300\n",
            "193/193 [==============================] - 0s 243us/step - loss: 0.0581 - acc: 0.9896\n",
            "Epoch 261/300\n",
            "193/193 [==============================] - 0s 245us/step - loss: 0.0412 - acc: 0.9948\n",
            "Epoch 262/300\n",
            "193/193 [==============================] - 0s 243us/step - loss: 0.0353 - acc: 1.0000\n",
            "Epoch 263/300\n",
            "193/193 [==============================] - 0s 237us/step - loss: 0.0277 - acc: 1.0000\n",
            "Epoch 264/300\n",
            "193/193 [==============================] - 0s 243us/step - loss: 0.0456 - acc: 0.9793\n",
            "Epoch 265/300\n",
            "193/193 [==============================] - 0s 261us/step - loss: 0.0338 - acc: 1.0000\n",
            "Epoch 266/300\n",
            "193/193 [==============================] - 0s 246us/step - loss: 0.0501 - acc: 0.9845\n",
            "Epoch 267/300\n",
            "193/193 [==============================] - 0s 247us/step - loss: 0.0326 - acc: 1.0000\n",
            "Epoch 268/300\n",
            "193/193 [==============================] - 0s 260us/step - loss: 0.0320 - acc: 1.0000\n",
            "Epoch 269/300\n",
            "193/193 [==============================] - 0s 250us/step - loss: 0.0300 - acc: 1.0000\n",
            "Epoch 270/300\n",
            "193/193 [==============================] - 0s 269us/step - loss: 0.0398 - acc: 0.9948\n",
            "Epoch 271/300\n",
            "193/193 [==============================] - 0s 235us/step - loss: 0.0214 - acc: 1.0000\n",
            "Epoch 272/300\n",
            "193/193 [==============================] - 0s 310us/step - loss: 0.0449 - acc: 0.9948\n",
            "Epoch 273/300\n",
            "193/193 [==============================] - 0s 228us/step - loss: 0.0336 - acc: 1.0000\n",
            "Epoch 274/300\n",
            "193/193 [==============================] - 0s 239us/step - loss: 0.0373 - acc: 1.0000\n",
            "Epoch 275/300\n",
            "193/193 [==============================] - 0s 240us/step - loss: 0.0430 - acc: 0.9896\n",
            "Epoch 276/300\n",
            "193/193 [==============================] - 0s 220us/step - loss: 0.0307 - acc: 0.9948\n",
            "Epoch 277/300\n",
            "193/193 [==============================] - 0s 223us/step - loss: 0.0439 - acc: 0.9845\n",
            "Epoch 278/300\n",
            "193/193 [==============================] - 0s 220us/step - loss: 0.0358 - acc: 0.9948\n",
            "Epoch 279/300\n",
            "193/193 [==============================] - 0s 220us/step - loss: 0.0254 - acc: 1.0000\n",
            "Epoch 280/300\n",
            "193/193 [==============================] - 0s 217us/step - loss: 0.0340 - acc: 0.9948\n",
            "Epoch 281/300\n",
            "193/193 [==============================] - 0s 222us/step - loss: 0.0208 - acc: 1.0000\n",
            "Epoch 282/300\n",
            "193/193 [==============================] - 0s 222us/step - loss: 0.0344 - acc: 0.9948\n",
            "Epoch 283/300\n",
            "193/193 [==============================] - 0s 223us/step - loss: 0.0579 - acc: 0.9845\n",
            "Epoch 284/300\n",
            "193/193 [==============================] - 0s 221us/step - loss: 0.0389 - acc: 0.9896\n",
            "Epoch 285/300\n",
            "193/193 [==============================] - 0s 223us/step - loss: 0.0317 - acc: 1.0000\n",
            "Epoch 286/300\n",
            "193/193 [==============================] - 0s 223us/step - loss: 0.0317 - acc: 0.9896\n",
            "Epoch 287/300\n",
            "193/193 [==============================] - 0s 224us/step - loss: 0.0305 - acc: 0.9948\n",
            "Epoch 288/300\n",
            "193/193 [==============================] - 0s 223us/step - loss: 0.0404 - acc: 0.9948\n",
            "Epoch 289/300\n",
            "193/193 [==============================] - 0s 310us/step - loss: 0.0360 - acc: 0.9948\n",
            "Epoch 290/300\n",
            "193/193 [==============================] - 0s 249us/step - loss: 0.0404 - acc: 0.9948\n",
            "Epoch 291/300\n",
            "193/193 [==============================] - 0s 241us/step - loss: 0.0377 - acc: 1.0000\n",
            "Epoch 292/300\n",
            "193/193 [==============================] - 0s 225us/step - loss: 0.0330 - acc: 0.9948\n",
            "Epoch 293/300\n",
            "193/193 [==============================] - 0s 229us/step - loss: 0.0446 - acc: 0.9845\n",
            "Epoch 294/300\n",
            "193/193 [==============================] - 0s 330us/step - loss: 0.0198 - acc: 1.0000\n",
            "Epoch 295/300\n",
            "193/193 [==============================] - 0s 235us/step - loss: 0.0278 - acc: 0.9948\n",
            "Epoch 296/300\n",
            "193/193 [==============================] - 0s 230us/step - loss: 0.0334 - acc: 0.9948\n",
            "Epoch 297/300\n",
            "193/193 [==============================] - 0s 234us/step - loss: 0.0444 - acc: 0.9896\n",
            "Epoch 298/300\n",
            "193/193 [==============================] - 0s 226us/step - loss: 0.0295 - acc: 0.9948\n",
            "Epoch 299/300\n",
            "193/193 [==============================] - 0s 226us/step - loss: 0.0334 - acc: 0.9948\n",
            "Epoch 300/300\n",
            "193/193 [==============================] - 0s 226us/step - loss: 0.0300 - acc: 1.0000\n"
          ],
          "name": "stdout"
        },
        {
          "output_type": "stream",
          "text": [
            "INFO:rasa_core.policies.keras_policy:Done fitting keras policy model\n",
            "INFO:rasa_core.agent:Model directory models/dialogue exists and contains old model files. All files will be overwritten.\n",
            "INFO:rasa_core.agent:Persisted model to '/content/models/dialogue'\n"
          ],
          "name": "stderr"
        }
      ]
    },
    {
      "metadata": {
        "id": "sUBfx5MBu7yg",
        "colab_type": "text"
      },
      "cell_type": "markdown",
      "source": [
        "►**Starting of bot**"
      ]
    },
    {
      "metadata": {
        "id": "MtNds3y9v2mN",
        "colab_type": "code",
        "outputId": "28fbe6aa-c858-4de1-8f55-64ba18466214",
        "colab": {
          "base_uri": "https://localhost:8080/",
          "height": 34
        }
      },
      "cell_type": "code",
      "source": [
        "from rasa_core.agent import Agent\n",
        "agent = Agent.load('models/dialogue', interpreter=model_directory)"
      ],
      "execution_count": 0,
      "outputs": [
        {
          "output_type": "stream",
          "text": [
            "INFO:rasa_nlu.components:Added 'nlp_spacy' to component cache. Key 'nlp_spacy-en'.\n"
          ],
          "name": "stderr"
        }
      ]
    },
    {
      "metadata": {
        "id": "JUf7pWK5qSTp",
        "colab_type": "code",
        "outputId": "f965f1ac-35cb-4d46-c5eb-96ae38fabaaa",
        "colab": {
          "base_uri": "https://localhost:8080/",
          "height": 326
        }
      },
      "cell_type": "code",
      "source": [
        "print(\"Your bot is ready to talk! Type your messages here or send 'stop'\")\n",
        "while True:\n",
        "    a = input()\n",
        "    if a == 'stop':\n",
        "        break\n",
        "    responses = agent.handle_message(a)\n",
        "    for response in responses:\n",
        "        print(response[\"text\"])"
      ],
      "execution_count": 0,
      "outputs": [
        {
          "output_type": "stream",
          "text": [
            "Your bot is ready to talk! Type your messages here or send 'stop'\n",
            "hello \n",
            "Hey!what's up buddy?\n",
            "i am sad\n",
            "I can tell you some jokes if it would help to cheer you up..Would you like to hear any joke?\n",
            "yes\n",
            "Which kind of joke would you like to listen?\n",
            "/inform{\"jokes\":\"father\"}\n",
            "I have something really funny for you:Son: Mom, yesterday when I was on the bus with dad, dad told me to give up my seat to a lady.Mom: Good, you have done the right thing.Son: But mom I was sitting on dad's lap.\n",
            "Is it good for you now?\n",
            "yes, i am good now\n",
            "I'm not getting you....\n",
            "i am good\n",
            "Very nice buddy!Keep it up\n",
            "Bye\n",
            "Meet u soon!\n",
            "stop\n"
          ],
          "name": "stdout"
        }
      ]
    },
    {
      "metadata": {
        "id": "xMppMpedzDA0",
        "colab_type": "code",
        "colab": {}
      },
      "cell_type": "code",
      "source": [
        ""
      ],
      "execution_count": 0,
      "outputs": []
    }
  ]
}